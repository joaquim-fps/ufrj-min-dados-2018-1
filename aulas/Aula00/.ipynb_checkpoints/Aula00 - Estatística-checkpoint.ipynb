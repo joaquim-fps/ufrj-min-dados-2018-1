{
 "cells": [
  {
   "cell_type": "markdown",
   "metadata": {},
   "source": [
    "# Começando a entender estatística\n",
    "\n",
    "Da lista de pesos obtido do CSV anterior, obtenha uma amostra (o tamanho da amostra é um parâmetro), calcule a média da amostra. Repita o processo de amostrar e calcular a média 1000 vezes. Crie um histograma com as médias da amostra."
   ]
  },
  {
   "cell_type": "code",
   "execution_count": 1,
   "metadata": {
    "init_cell": true
   },
   "outputs": [],
   "source": [
    "import csv\n",
    "import numpy as np\n",
    "import matplotlib.pyplot as plt"
   ]
  },
  {
   "cell_type": "code",
   "execution_count": null,
   "metadata": {},
   "outputs": [],
   "source": [
    "data_path = '../data/'"
   ]
  },
  {
   "cell_type": "code",
   "execution_count": 2,
   "metadata": {
    "init_cell": true
   },
   "outputs": [],
   "source": [
    "with open(data_path + 'pokemon.csv', encoding='utf-8') as pokemon_data:\n",
    "    reader = csv.reader(pokemon_data, delimiter=',', quotechar='\"')\n",
    "    \n",
    "    header = next(reader)\n",
    "    header_position = {}\n",
    "    for i in range(len(header)):\n",
    "        header_position.update({header[i]:i})\n",
    "        \n",
    "    weight_pos = header_position['weight_kg']\n",
    "    weight_list = []\n",
    "    for line in reader:\n",
    "        weight = line[weight_pos]\n",
    "        \n",
    "        if weight != '':\n",
    "            weight = float(weight)\n",
    "            weight_list.append(weight)"
   ]
  },
  {
   "cell_type": "markdown",
   "metadata": {},
   "source": [
    "# Sample size\n",
    "\n",
    "A minimum sample size of ```10``` is enough to guarantee a low probability of two equal samples. We also need to limit the maximum sample size to ```len(weight_list) - 10``` for the same reason."
   ]
  },
  {
   "cell_type": "code",
   "execution_count": 4,
   "metadata": {},
   "outputs": [
    {
     "data": {
      "image/png": "[encoded data removed]",
      "text/plain": [
       "<matplotlib.figure.Figure at 0x87f0be0>"
      ]
     },
     "metadata": {},
     "output_type": "display_data"
    }
   ],
   "source": [
    "sample_size = np.random.randint(10, len(weight_list)-10)\n",
    "means = []\n",
    "\n",
    "num_samples = 1000\n",
    "for i in range(num_samples):\n",
    "    np.random.shuffle(weight_list)\n",
    "    sample = weight_list[:sample_size]\n",
    "    means.append(np.mean(sample))\n",
    "    \n",
    "plt.hist(means);"
   ]
  }
 ],
 "metadata": {
  "celltoolbar": "Initialization Cell",
  "kernelspec": {
   "display_name": "Python 3",
   "language": "python",
   "name": "python3"
  },
  "language_info": {
   "codemirror_mode": {
    "name": "ipython",
    "version": 3
   },
   "file_extension": ".py",
   "mimetype": "text/x-python",
   "name": "python",
   "nbconvert_exporter": "python",
   "pygments_lexer": "ipython3",
   "version": "3.6.4"
  },
  "latex_envs": {
   "LaTeX_envs_menu_present": true,
   "autoclose": true,
   "autocomplete": true,
   "bibliofile": "biblio.bib",
   "cite_by": "apalike",
   "current_citInitial": 1,
   "eqLabelWithNumbers": true,
   "eqNumInitial": 1,
   "hotkeys": {
    "equation": "Ctrl-E",
    "itemize": "Ctrl-I"
   },
   "labels_anchors": false,
   "latex_user_defs": false,
   "report_style_numbering": false,
   "user_envs_cfg": false
  },
  "varInspector": {
   "cols": {
    "lenName": 16,
    "lenType": 16,
    "lenVar": 40
   },
   "kernels_config": {
    "python": {
     "delete_cmd_postfix": "",
     "delete_cmd_prefix": "del ",
     "library": "var_list.py",
     "varRefreshCmd": "print(var_dic_list())"
    },
    "r": {
     "delete_cmd_postfix": ") ",
     "delete_cmd_prefix": "rm(",
     "library": "var_list.r",
     "varRefreshCmd": "cat(var_dic_list()) "
    }
   },
   "types_to_exclude": [
    "module",
    "function",
    "builtin_function_or_method",
    "instance",
    "_Feature"
   ],
   "window_display": false
  }
 },
 "nbformat": 4,
 "nbformat_minor": 2
}
