{
 "cells": [
  {
   "cell_type": "markdown",
   "metadata": {},
   "source": [
    "# Lista de Exercícios de Estatística"
   ]
  },
  {
   "cell_type": "code",
   "execution_count": 1,
   "metadata": {},
   "outputs": [],
   "source": [
    "import numpy as np\n",
    "import pandas as pd\n",
    "import matplotlib.pyplot as plt\n",
    "import seaborn as sns\n",
    "import scipy"
   ]
  },
  {
   "cell_type": "markdown",
   "metadata": {},
   "source": [
    "Considere uma amostra contendo a seguinte sequência de números:"
   ]
  },
  {
   "cell_type": "code",
   "execution_count": 2,
   "metadata": {},
   "outputs": [],
   "source": [
    "data = pd.Series([181.37984274, 154.80600659, 182.33424888, 170.32065307, 179.82634437,\n",
    " 168.73723578, 164.28520413, 171.93415101, 171.71090179, 177.69136458,\n",
    " 153.38183565, 151.13269527, 166.4994225,  828.37581774 ,168.02278222,\n",
    " 169.29065423, 138.46062748, 174.88588464, 155.01472584, 164.27356639])\n",
    "\n",
    "#Retirando outliers\n",
    "clean_data = data[data < 800]"
   ]
  },
  {
   "cell_type": "markdown",
   "metadata": {},
   "source": [
    "## 1) Qual a média da amostra?"
   ]
  },
  {
   "cell_type": "code",
   "execution_count": 3,
   "metadata": {},
   "outputs": [
    {
     "name": "stdout",
     "output_type": "stream",
     "text": [
      "Média = 166.52569195578948\n"
     ]
    }
   ],
   "source": [
    "mean = clean_data.mean()\n",
    "print(\"Média = {}\".format(mean))"
   ]
  },
  {
   "cell_type": "markdown",
   "metadata": {},
   "source": [
    "## 2) Qual o desvio padrão da amostra?"
   ]
  },
  {
   "cell_type": "code",
   "execution_count": 4,
   "metadata": {},
   "outputs": [
    {
     "name": "stdout",
     "output_type": "stream",
     "text": [
      "Desvio padrão = 11.558172990787764\n"
     ]
    }
   ],
   "source": [
    "std = clean_data.std()\n",
    "print(\"Desvio padrão = {}\".format(std))"
   ]
  },
  {
   "cell_type": "markdown",
   "metadata": {},
   "source": [
    "## 3) Faça um histograma com os dados."
   ]
  },
  {
   "cell_type": "code",
   "execution_count": 5,
   "metadata": {},
   "outputs": [
    {
     "data": {
      "image/png": "[encoded data removed]",
      "text/plain": [
       "<matplotlib.figure.Figure at 0xabc45c0>"
      ]
     },
     "metadata": {},
     "output_type": "display_data"
    }
   ],
   "source": [
    "sns.distplot(clean_data, bins=10)\n",
    "\n",
    "sns.despine()\n",
    "plt.title('Histograma dos dados')\n",
    "plt.savefig('../plots/hist-aula02.png')"
   ]
  },
  {
   "cell_type": "markdown",
   "metadata": {},
   "source": [
    "## 4) Qual distribuição se enquadra melhor para os dados?"
   ]
  },
  {
   "cell_type": "markdown",
   "metadata": {},
   "source": [
    "Distribuição Normal."
   ]
  },
  {
   "cell_type": "markdown",
   "metadata": {},
   "source": [
    "## 5) Infira a média da população a partir da amostra."
   ]
  },
  {
   "cell_type": "code",
   "execution_count": 6,
   "metadata": {},
   "outputs": [
    {
     "name": "stdout",
     "output_type": "stream",
     "text": [
      "Média populacional = 166.52569195578948\n"
     ]
    }
   ],
   "source": [
    "mean_pop = mean\n",
    "print('Média populacional = {}'.format(mean_pop))"
   ]
  },
  {
   "cell_type": "markdown",
   "metadata": {},
   "source": [
    "## 6) Infira o desvio padrão da população a partir da amostra."
   ]
  },
  {
   "cell_type": "code",
   "execution_count": 7,
   "metadata": {},
   "outputs": [
    {
     "name": "stdout",
     "output_type": "stream",
     "text": [
      "Desvio padrão populacional = 2.65162673888448\n"
     ]
    }
   ],
   "source": [
    "std_pop = std/(len(clean_data))**0.5\n",
    "print('Desvio padrão populacional = {}'.format(std_pop))"
   ]
  },
  {
   "cell_type": "markdown",
   "metadata": {},
   "source": [
    "## 7) Considerando a média e desvio padrão que você inferiu a partir da amostra e a distribuição que você hipotetizou sobre os dados,  qual a probabilidade de:"
   ]
  },
  {
   "cell_type": "code",
   "execution_count": 8,
   "metadata": {},
   "outputs": [],
   "source": [
    "normal = scipy.stats.norm(mean_pop, std_pop)"
   ]
  },
  {
   "cell_type": "markdown",
   "metadata": {},
   "source": [
    " - Encontrar o valor 200.00  "
   ]
  },
  {
   "cell_type": "markdown",
   "metadata": {},
   "source": [
    "0, pois estamos lidando com uma V.A. contínua."
   ]
  },
  {
   "cell_type": "markdown",
   "metadata": {},
   "source": [
    " - O valor ser maior que 180 "
   ]
  },
  {
   "cell_type": "code",
   "execution_count": 9,
   "metadata": {},
   "outputs": [
    {
     "name": "stdout",
     "output_type": "stream",
     "text": [
      "Probabilidade = 1.8720818351081192e-07\n"
     ]
    }
   ],
   "source": [
    "p_180 = normal.cdf(180)\n",
    "print('Probabilidade = {}'.format(1 - p_180))"
   ]
  },
  {
   "cell_type": "markdown",
   "metadata": {},
   "source": [
    " - O valor ser menor que 120 e maior que 190"
   ]
  },
  {
   "cell_type": "code",
   "execution_count": 10,
   "metadata": {},
   "outputs": [
    {
     "name": "stdout",
     "output_type": "stream",
     "text": [
      "Probabilidade = 3.185701025789076e-69\n"
     ]
    }
   ],
   "source": [
    "#Assumindo que era para ser OU, invés de E\n",
    "p_120 = normal.cdf(120)\n",
    "p_190 = normal.cdf(190)\n",
    "print('Probabilidade = {}'.format((1 - p_190) + p_120))"
   ]
  },
  {
   "cell_type": "markdown",
   "metadata": {},
   "source": [
    "## 8) Utilizando um grid search (um for dentro de outro igual ao utilizado na aula prática), encontre o conjunto de parâmetros da sua distribuição que maximiza o log-likelihood para os dados. Por exemplo, se você no item 4 supôs que esses dados seguem uma distribuição exponencial, você terá que achar o melhor lambda (taxa) que faz a distribuição exponencial se encaixar nos seus dados (qual lambda aumenta o likelihood)."
   ]
  },
  {
   "cell_type": "code",
   "execution_count": 11,
   "metadata": {},
   "outputs": [],
   "source": [
    "best_mean = -np.inf\n",
    "best_std  = -np.inf\n",
    "max_likelihood = -np.inf"
   ]
  },
  {
   "cell_type": "code",
   "execution_count": 12,
   "metadata": {},
   "outputs": [],
   "source": [
    "def gauss(dt, mean, std):\n",
    "    g = (1/(std*np.sqrt(2*np.pi)))*np.e**(-0.5*(dt-mean)**2/std**2)\n",
    "    return g"
   ]
  },
  {
   "cell_type": "code",
   "execution_count": 13,
   "metadata": {},
   "outputs": [
    {
     "name": "stdout",
     "output_type": "stream",
     "text": [
      "Parâmetros:\n",
      "Média = 166.49999999999793 e Desvio padrão = 11.300000000000008\n"
     ]
    }
   ],
   "source": [
    "mean_range = np.arange(130, 200, 0.1)\n",
    "std_range  = np.arange(2, 20, 0.1)\n",
    "\n",
    "for m in mean_range:\n",
    "    for s in std_range:\n",
    "        fit_data = gauss(clean_data, m, s)\n",
    "        likelihood = np.sum(np.log(fit_data))\n",
    "        \n",
    "        if likelihood > max_likelihood:\n",
    "            max_likelihood = likelihood\n",
    "            best_mean = m\n",
    "            best_std  = s\n",
    "            \n",
    "print('Parâmetros:\\nMédia = {} e Desvio padrão = {}'.format(best_mean, best_std))"
   ]
  },
  {
   "cell_type": "markdown",
   "metadata": {},
   "source": [
    "## 9) A média e desvio padrão para a distribuição com os parâmetros encontrados no item 8 são próximos da média e desvio padrão da amostra? Se não, qual seria o motivo?"
   ]
  },
  {
   "cell_type": "markdown",
   "metadata": {},
   "source": [
    "Sim. Porém, pode acontecer o contrário quando a distribuição suposta não é muito adequada aos dados."
   ]
  },
  {
   "cell_type": "markdown",
   "metadata": {},
   "source": [
    "## 10) Nos últimos 4 anos a empresa D&B teve um faturamento mensal médio de 50 milhões com um desvio padrão de 5 milhões.  Após a contratação de uma empresa especializada em marketing digital, os últimos seis meses apresentaram os faturamentos de 61 milhões, 54 milhões, 78 milhões, 42 milhões, 78 milhões e 73 milhões. Considerando esses seis meses como uma amostra, calcule a probabilidade dessa empresa ter melhorado o resultado do faturamento por puro acaso (dica: considerando o teorema central do limite, qual a probabilidade da média amostral  ocorrer por puro acaso, uma vez que ora ou outra resultados maiores ou menores podem ocorrer)"
   ]
  },
  {
   "cell_type": "code",
   "execution_count": null,
   "metadata": {},
   "outputs": [],
   "source": []
  }
 ],
 "metadata": {
  "kernelspec": {
   "display_name": "Python 3",
   "language": "python",
   "name": "python3"
  },
  "language_info": {
   "codemirror_mode": {
    "name": "ipython",
    "version": 3
   },
   "file_extension": ".py",
   "mimetype": "text/x-python",
   "name": "python",
   "nbconvert_exporter": "python",
   "pygments_lexer": "ipython3",
   "version": "3.6.4"
  }
 },
 "nbformat": 4,
 "nbformat_minor": 2
}
