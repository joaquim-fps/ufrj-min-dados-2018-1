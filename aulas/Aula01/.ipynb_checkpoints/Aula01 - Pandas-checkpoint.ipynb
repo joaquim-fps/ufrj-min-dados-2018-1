{
 "cells": [
  {
   "cell_type": "markdown",
   "metadata": {},
   "source": [
    "# Utilizando Pandas\n",
    "\n",
    "Refaça as 4 tarefas da aula passada com o Pandas. Só é necessário entregar um único notebook com tudo feito."
   ]
  },
  {
   "cell_type": "code",
   "execution_count": 1,
   "metadata": {
    "init_cell": true
   },
   "outputs": [],
   "source": [
    "import numpy as np\n",
    "import pandas as pd\n",
    "import matplotlib.pyplot as plt"
   ]
  },
  {
   "cell_type": "code",
   "execution_count": 4,
   "metadata": {},
   "outputs": [],
   "source": [
    "data_path = '../data/'\n",
    "plot_path = '../plots/'"
   ]
  },
  {
   "cell_type": "markdown",
   "metadata": {},
   "source": [
    "## Carregando dataset\n",
    "\n",
    "[Pokemon dataset](https://www.kaggle.com/rounakbanik/pokemon/data)"
   ]
  },
  {
   "cell_type": "code",
   "execution_count": 5,
   "metadata": {
    "init_cell": true
   },
   "outputs": [],
   "source": [
    "poke_data = pd.read_csv(data_path + 'pokemon.csv')\n",
    "weights = poke_data['weight_kg']"
   ]
  },
  {
   "cell_type": "markdown",
   "metadata": {},
   "source": [
    "## Visualização com Matplotlib"
   ]
  },
  {
   "cell_type": "code",
   "execution_count": 6,
   "metadata": {},
   "outputs": [
    {
     "data": {
      "image/png": "[encoded data removed]",
      "text/plain": [
       "<matplotlib.figure.Figure at 0x9905cc0>"
      ]
     },
     "metadata": {},
     "output_type": "display_data"
    }
   ],
   "source": [
    "plt.scatter(range(len(weights)), weights)\n",
    "plt.title('Pokemon Weight Distribution')\n",
    "plt.ylabel('Weight')\n",
    "plt.savefig(plot_path + 'pokemon-weight-distribution.png');"
   ]
  },
  {
   "cell_type": "markdown",
   "metadata": {},
   "source": [
    "## Calculando média e desvião padrão"
   ]
  },
  {
   "cell_type": "code",
   "execution_count": 8,
   "metadata": {},
   "outputs": [
    {
     "name": "stdout",
     "output_type": "stream",
     "text": [
      "61.37810499359791\n",
      "109.35476585346375\n"
     ]
    }
   ],
   "source": [
    "print(weights.mean())\n",
    "print(weights.std())"
   ]
  },
  {
   "cell_type": "markdown",
   "metadata": {},
   "source": [
    "## Médias de amostras aleatórias\n",
    "\n",
    "Da lista de pesos obtido do dataset, obtenha uma amostra (o tamanho da amostra é um parâmetro) e calcule a média da amostra. Repita o processo de amostrar e calcular a média 1000 vezes. Crie um histograma com as médias da amostra."
   ]
  },
  {
   "cell_type": "markdown",
   "metadata": {},
   "source": [
    "### Calculando tamanho das amostras\n",
    "\n",
    "Um tamanho amostral mínimo de ```min_sample_size = 10``` é suficiente para garantir uma probabilidade baixa de que duas amostras sejam iguais. O mesmo vale para o tamanho máximo de ```len(weights) - min_sample_size```."
   ]
  },
  {
   "cell_type": "code",
   "execution_count": 11,
   "metadata": {
    "tags": [
     "#SAMPLE-SIZE"
    ]
   },
   "outputs": [],
   "source": [
    "means = []\n",
    "\n",
    "min_sample_size = 10\n",
    "sample_size = np.random.randint(min_sample_size, len(weights)-min_sample_size)"
   ]
  },
  {
   "cell_type": "markdown",
   "metadata": {},
   "source": [
    "### Calculando a média das amostras"
   ]
  },
  {
   "cell_type": "code",
   "execution_count": 12,
   "metadata": {
    "tags": [
     "#SAMPLING",
     "=>SAMPLE-SIZE"
    ]
   },
   "outputs": [],
   "source": [
    "num_samples = 1000\n",
    "for i in range(num_samples):\n",
    "    sample = weights.sample(sample_size)\n",
    "    means.append(sample.mean())"
   ]
  },
  {
   "cell_type": "markdown",
   "metadata": {},
   "source": [
    "### Visualizando resultado no histograma"
   ]
  },
  {
   "cell_type": "code",
   "execution_count": 13,
   "metadata": {
    "tags": [
     "=>SAMPLING",
     "#PLOT"
    ]
   },
   "outputs": [
    {
     "data": {
      "image/png": "[encoded data removed]",
      "text/plain": [
       "<matplotlib.figure.Figure at 0x9260438>"
      ]
     },
     "metadata": {},
     "output_type": "display_data"
    }
   ],
   "source": [
    "plt.hist(means)\n",
    "plt.title('Histogram of the Mean of Random Pokemon Weight Samples')\n",
    "plt.xlabel('Mean Weight')\n",
    "plt.savefig(plot_path + 'pokemon-random-weight-means.png');"
   ]
  }
 ],
 "metadata": {
  "celltoolbar": "Initialization Cell",
  "kernelspec": {
   "display_name": "Python 3",
   "language": "python",
   "name": "python3"
  },
  "language_info": {
   "codemirror_mode": {
    "name": "ipython",
    "version": 3
   },
   "file_extension": ".py",
   "mimetype": "text/x-python",
   "name": "python",
   "nbconvert_exporter": "python",
   "pygments_lexer": "ipython3",
   "version": "3.6.4"
  },
  "latex_envs": {
   "LaTeX_envs_menu_present": true,
   "autoclose": true,
   "autocomplete": true,
   "bibliofile": "biblio.bib",
   "cite_by": "apalike",
   "current_citInitial": 1,
   "eqLabelWithNumbers": true,
   "eqNumInitial": 1,
   "hotkeys": {
    "equation": "Ctrl-E",
    "itemize": "Ctrl-I"
   },
   "labels_anchors": false,
   "latex_user_defs": false,
   "report_style_numbering": false,
   "user_envs_cfg": false
  },
  "varInspector": {
   "cols": {
    "lenName": 16,
    "lenType": 16,
    "lenVar": 40
   },
   "kernels_config": {
    "python": {
     "delete_cmd_postfix": "",
     "delete_cmd_prefix": "del ",
     "library": "var_list.py",
     "varRefreshCmd": "print(var_dic_list())"
    },
    "r": {
     "delete_cmd_postfix": ") ",
     "delete_cmd_prefix": "rm(",
     "library": "var_list.r",
     "varRefreshCmd": "cat(var_dic_list()) "
    }
   },
   "types_to_exclude": [
    "module",
    "function",
    "builtin_function_or_method",
    "instance",
    "_Feature"
   ],
   "window_display": false
  }
 },
 "nbformat": 4,
 "nbformat_minor": 2
}
