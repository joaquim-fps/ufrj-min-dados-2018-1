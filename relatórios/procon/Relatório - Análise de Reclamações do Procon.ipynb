{
 "cells": [
  {
   "cell_type": "markdown",
   "metadata": {},
   "source": [
    "# Relatório - Análise de reclamações do Procon"
   ]
  },
  {
   "cell_type": "markdown",
   "metadata": {},
   "source": [
    "## Descrição do problema"
   ]
  },
  {
   "cell_type": "markdown",
   "metadata": {},
   "source": [
    "Utilizando o framework de análise descrito em aula e as técnicas de visualização apropriadas, será realizada uma análise sobre o *[dataset de reclamações do procon](https://www.kaggle.com/gerosa/procon/data)*. \n",
    "\n",
    "**O intuito da análise é descobrir quais são as empresas mais odiadas pelos consumidores.**"
   ]
  },
  {
   "cell_type": "markdown",
   "metadata": {},
   "source": [
    "Primeiramente, devemos pensar mais sobre a questão em si: **o que leva o consumidor a ter uma opinião negativa acerca de uma empresa?**\n",
    "\n",
    "Podemos levantar algumas hipóteses:\n",
    "\n",
    "- Os clientes tem problemas frequentes com aquela empresa\n",
    "- A empresa não é capaz de resolver o problema do consumidor\n",
    "- Há uma demora na resolução da reclamação\n",
    "\n",
    "Diante dessas suposições, estabelecemos algumas métricas para medir o desempenho das empresas:\n",
    "\n",
    "- Frequência de reclamações\n",
    "- Porcentagem de reclamações atendidas\n",
    "- Tempo médio entre a abertura e o arquivamento das reclamações\n",
    "\n",
    "Além disso, se realizarmos uma avaliação setorial, obteremos mais informações a respeito de quais problemas são mais frequentes para os consumidores."
   ]
  },
  {
   "cell_type": "markdown",
   "metadata": {},
   "source": [
    "## Caracterização inicial dos datasets\n",
    "\n",
    "Com a nossa problemática já bem definida, agora precisamos entender melhor como nossos dados estão estruturados antes de explorá-los."
   ]
  },
  {
   "cell_type": "markdown",
   "metadata": {},
   "source": [
    "### Configuração do ambiente\n",
    "\n",
    "Vamos carregar as bibliotecas necessárias para trabalhar com as nossas bases de dados para, então, ler nossos *datasets*."
   ]
  },
  {
   "cell_type": "code",
   "execution_count": 3,
   "metadata": {},
   "outputs": [],
   "source": [
    "# Pré-processamento\n",
    "import nltk\n",
    "import string\n",
    "import re\n",
    "\n",
    "# Manipulações, cálculos estatísticos e visualização\n",
    "import numpy as np\n",
    "import pandas as pd\n",
    "import matplotlib.pyplot as plt\n",
    "import seaborn as sns"
   ]
  },
  {
   "cell_type": "code",
   "execution_count": 4,
   "metadata": {},
   "outputs": [
    {
     "name": "stdout",
     "output_type": "stream",
     "text": [
      "[nltk_data] Downloading package rslp to\n",
      "[nltk_data]     C:\\Users\\Joaquim\\AppData\\Roaming\\nltk_data...\n",
      "[nltk_data]   Package rslp is already up-to-date!\n",
      "[nltk_data] Downloading package stopwords to\n",
      "[nltk_data]     C:\\Users\\Joaquim\\AppData\\Roaming\\nltk_data...\n",
      "[nltk_data]   Package stopwords is already up-to-date!\n"
     ]
    },
    {
     "data": {
      "text/plain": [
       "True"
      ]
     },
     "execution_count": 4,
     "metadata": {},
     "output_type": "execute_result"
    }
   ],
   "source": [
    "nltk.download('rslp')\n",
    "nltk.download('stopwords')"
   ]
  },
  {
   "cell_type": "code",
   "execution_count": 5,
   "metadata": {},
   "outputs": [],
   "source": [
    "data_path = './data/'\n",
    "plot_path = './plots/'"
   ]
  },
  {
   "cell_type": "code",
   "execution_count": 6,
   "metadata": {},
   "outputs": [
    {
     "name": "stderr",
     "output_type": "stream",
     "text": [
      "C:\\Users\\Joaquim\\Anaconda3\\lib\\site-packages\\IPython\\core\\interactiveshell.py:2728: DtypeWarning: Columns (22) have mixed types. Specify dtype option on import or set low_memory=False.\n",
      "  interactivity=interactivity, compiler=compiler, result=result)\n"
     ]
    }
   ],
   "source": [
    "procon12 = pd.read_csv(data_path + 'reclamacoes-2012.csv')\n",
    "procon13 = pd.read_csv(data_path + 'reclamacoes-2013.csv')\n",
    "procon14 = pd.read_csv(data_path + 'reclamacoes-2014.csv')\n",
    "procon15 = pd.read_csv(data_path + 'reclamacoes-2015.csv')\n",
    "procon16 = pd.read_csv(data_path + 'reclamacoes-2016.csv')"
   ]
  },
  {
   "cell_type": "markdown",
   "metadata": {},
   "source": [
    "### Definição de funções auxiliares\n",
    "\n",
    "Para manter nosso código mais limpo, vamos definir algumas funções."
   ]
  },
  {
   "cell_type": "code",
   "execution_count": 7,
   "metadata": {},
   "outputs": [],
   "source": [
    "def table_stemming(word, table):\n",
    "    if word in table:\n",
    "        return word\n",
    "    else:\n",
    "        return ''\n",
    "    \n",
    "#Rescaling\n",
    "def minmax(df):\n",
    "    return (df-df.min())/(df.max()-df.min())\n",
    "\n",
    "#Standardization\n",
    "def meannorm(df):\n",
    "    return (df-df.mean())/df.std()\n"
   ]
  },
  {
   "cell_type": "markdown",
   "metadata": {},
   "source": [
    "### Identificação dos headers de cada dataset\n",
    "\n",
    "Vamos olhar o nome e tipo das colunas de cada *dataset*, para ter certeza de que estamos com o arquivo correto e de que o mesmo está seguindo a especificação que está no *Kaggle*."
   ]
  },
  {
   "cell_type": "code",
   "execution_count": 8,
   "metadata": {},
   "outputs": [
    {
     "name": "stdout",
     "output_type": "stream",
     "text": [
      "<class 'pandas.core.frame.DataFrame'>\n",
      "RangeIndex: 211076 entries, 0 to 211075\n",
      "Data columns (total 23 columns):\n",
      "AnoCalendario            211076 non-null int64\n",
      "DataArquivamento         211076 non-null object\n",
      "DataAbertura             211076 non-null object\n",
      "CodigoRegiao             211076 non-null int64\n",
      "Regiao                   211076 non-null object\n",
      "UF                       211076 non-null object\n",
      "strRazaoSocial           211076 non-null object\n",
      "strNomeFantasia          172723 non-null object\n",
      "Tipo                     211076 non-null int64\n",
      "NumeroCNPJ               200875 non-null float64\n",
      "RadicalCNPJ              200324 non-null float64\n",
      "RazaoSocialRFB           200214 non-null object\n",
      "NomeFantasiaRFB          90245 non-null object\n",
      "CNAEPrincipal            200214 non-null float64\n",
      "DescCNAEPrincipal        196250 non-null object\n",
      "Atendida                 211076 non-null object\n",
      "CodigoAssunto            211076 non-null int64\n",
      "DescricaoAssunto         211076 non-null object\n",
      "CodigoProblema           211076 non-null int64\n",
      "DescricaoProblema        211076 non-null object\n",
      "SexoConsumidor           211076 non-null object\n",
      "FaixaEtariaConsumidor    211076 non-null object\n",
      "CEPConsumidor            197170 non-null object\n",
      "dtypes: float64(3), int64(5), object(15)\n",
      "memory usage: 37.0+ MB\n"
     ]
    }
   ],
   "source": [
    "procon12.info()"
   ]
  },
  {
   "cell_type": "code",
   "execution_count": 9,
   "metadata": {},
   "outputs": [
    {
     "name": "stdout",
     "output_type": "stream",
     "text": [
      "<class 'pandas.core.frame.DataFrame'>\n",
      "RangeIndex: 268096 entries, 0 to 268095\n",
      "Data columns (total 23 columns):\n",
      "AnoCalendario            268096 non-null int64\n",
      "DataArquivamento         268096 non-null object\n",
      "DataAbertura             268096 non-null object\n",
      "CodigoRegiao             268096 non-null int64\n",
      "Regiao                   268096 non-null object\n",
      "UF                       268096 non-null object\n",
      "strRazaoSocial           268096 non-null object\n",
      "strNomeFantasia          218488 non-null object\n",
      "Tipo                     268096 non-null int64\n",
      "NumeroCNPJ               257056 non-null float64\n",
      "RadicalCNPJ              257056 non-null float64\n",
      "RazaoSocialRFB           256038 non-null object\n",
      "NomeFantasiaRFB          119663 non-null object\n",
      "CNAEPrincipal            251976 non-null float64\n",
      "DescCNAEPrincipal        251976 non-null object\n",
      "Atendida                 268096 non-null object\n",
      "CodigoAssunto            268096 non-null int64\n",
      "DescricaoAssunto         268096 non-null object\n",
      "CodigoProblema           268096 non-null int64\n",
      "DescricaoProblema        268096 non-null object\n",
      "SexoConsumidor           268096 non-null object\n",
      "FaixaEtariaConsumidor    268096 non-null object\n",
      "CEPConsumidor            249429 non-null object\n",
      "dtypes: float64(3), int64(5), object(15)\n",
      "memory usage: 47.0+ MB\n"
     ]
    }
   ],
   "source": [
    "procon13.info()"
   ]
  },
  {
   "cell_type": "code",
   "execution_count": 10,
   "metadata": {},
   "outputs": [
    {
     "name": "stdout",
     "output_type": "stream",
     "text": [
      "<class 'pandas.core.frame.DataFrame'>\n",
      "RangeIndex: 267764 entries, 0 to 267763\n",
      "Data columns (total 23 columns):\n",
      "AnoCalendario            267764 non-null int64\n",
      "DataArquivamento         267764 non-null object\n",
      "DataAbertura             267764 non-null object\n",
      "CodigoRegiao             267764 non-null int64\n",
      "Regiao                   267764 non-null object\n",
      "UF                       267764 non-null object\n",
      "strRazaoSocial           267764 non-null object\n",
      "strNomeFantasia          226691 non-null object\n",
      "Tipo                     267764 non-null int64\n",
      "NumeroCNPJ               256993 non-null float64\n",
      "RadicalCNPJ              256416 non-null float64\n",
      "RazaoSocialRFB           255312 non-null object\n",
      "NomeFantasiaRFB          124393 non-null object\n",
      "CNAEPrincipal            255312 non-null float64\n",
      "DescCNAEPrincipal        251926 non-null object\n",
      "Atendida                 267764 non-null object\n",
      "CodigoAssunto            267764 non-null int64\n",
      "DescricaoAssunto         267764 non-null object\n",
      "CodigoProblema           267764 non-null int64\n",
      "DescricaoProblema        267764 non-null object\n",
      "SexoConsumidor           267764 non-null object\n",
      "FaixaEtariaConsumidor    267764 non-null object\n",
      "CEPConsumidor            249828 non-null float64\n",
      "dtypes: float64(4), int64(5), object(14)\n",
      "memory usage: 47.0+ MB\n"
     ]
    }
   ],
   "source": [
    "procon14.info()"
   ]
  },
  {
   "cell_type": "code",
   "execution_count": 11,
   "metadata": {},
   "outputs": [
    {
     "name": "stdout",
     "output_type": "stream",
     "text": [
      "<class 'pandas.core.frame.DataFrame'>\n",
      "RangeIndex: 255650 entries, 0 to 255649\n",
      "Data columns (total 23 columns):\n",
      "AnoCalendario            255650 non-null int64\n",
      "DataArquivamento         255650 non-null object\n",
      "DataAbertura             255650 non-null object\n",
      "CodigoRegiao             255650 non-null int64\n",
      "Regiao                   255650 non-null object\n",
      "UF                       255650 non-null object\n",
      "strRazaoSocial           255645 non-null object\n",
      "strNomeFantasia          215012 non-null object\n",
      "Tipo                     255650 non-null int64\n",
      "NumeroCNPJ               243302 non-null float64\n",
      "RadicalCNPJ              243302 non-null float64\n",
      "RazaoSocialRFB           238591 non-null object\n",
      "NomeFantasiaRFB          120777 non-null object\n",
      "CNAEPrincipal            238591 non-null float64\n",
      "DescCNAEPrincipal        236325 non-null object\n",
      "Atendida                 255650 non-null object\n",
      "CodigoAssunto            255650 non-null int64\n",
      "DescricaoAssunto         255650 non-null object\n",
      "CodigoProblema           255640 non-null float64\n",
      "DescricaoProblema        255640 non-null object\n",
      "SexoConsumidor           254681 non-null object\n",
      "FaixaEtariaConsumidor    255650 non-null object\n",
      "CEPConsumidor            237439 non-null object\n",
      "dtypes: float64(4), int64(4), object(15)\n",
      "memory usage: 44.9+ MB\n"
     ]
    }
   ],
   "source": [
    "procon15.info()"
   ]
  },
  {
   "cell_type": "code",
   "execution_count": 12,
   "metadata": {},
   "outputs": [
    {
     "name": "stdout",
     "output_type": "stream",
     "text": [
      "<class 'pandas.core.frame.DataFrame'>\n",
      "RangeIndex: 203486 entries, 0 to 203485\n",
      "Data columns (total 23 columns):\n",
      "AnoCalendario            203486 non-null int64\n",
      "DataArquivamento         203486 non-null object\n",
      "DataAbertura             203486 non-null object\n",
      "CodigoRegiao             203486 non-null int64\n",
      "Regiao                   203486 non-null object\n",
      "UF                       203486 non-null object\n",
      "strRazaoSocial           203483 non-null object\n",
      "strNomeFantasia          173722 non-null object\n",
      "Tipo                     203486 non-null int64\n",
      "NumeroCNPJ               195292 non-null float64\n",
      "RadicalCNPJ              195292 non-null float64\n",
      "RazaoSocialRFB           187287 non-null object\n",
      "NomeFantasiaRFB          92561 non-null object\n",
      "CNAEPrincipal            187287 non-null float64\n",
      "DescCNAEPrincipal        185784 non-null object\n",
      "Atendida                 203486 non-null object\n",
      "CodigoAssunto            203486 non-null int64\n",
      "DescricaoAssunto         203486 non-null object\n",
      "CodigoProblema           203476 non-null float64\n",
      "DescricaoProblema        203476 non-null object\n",
      "SexoConsumidor           203484 non-null object\n",
      "FaixaEtariaConsumidor    203486 non-null object\n",
      "CEPConsumidor            189400 non-null float64\n",
      "dtypes: float64(5), int64(4), object(14)\n",
      "memory usage: 35.7+ MB\n"
     ]
    }
   ],
   "source": [
    "procon16.info()"
   ]
  },
  {
   "cell_type": "markdown",
   "metadata": {},
   "source": [
    "Tendo confirmado que os *datasets* estão com os headers padronizados, podemos juntá-los em um único *dataframe*."
   ]
  },
  {
   "cell_type": "code",
   "execution_count": 13,
   "metadata": {},
   "outputs": [],
   "source": [
    "dataset = pd.concat([procon12, procon13, procon14, procon15, procon16], ignore_index=True)"
   ]
  },
  {
   "cell_type": "markdown",
   "metadata": {},
   "source": [
    "### Header Metadata\n",
    "\n",
    "Vamos também listar a definição de cada coluna para entendermos melhor com quais iremos trabalhar mais tarde."
   ]
  },
  {
   "cell_type": "markdown",
   "metadata": {},
   "source": [
    "<div class=\"alert alert-block alert-info\">\n",
    "\n",
    "- **AnoCalendario** : Ano de referência\n",
    "- **DataArquivamento** : Data de arquivamento da reclamação\n",
    "- **DataAbertura** : Data de abertura da reclamação\n",
    "- **CodigoRegiao** : 1 - Norte, 2 - Nordeste, 3 - Sudeste, 4 - Sul, 5 - Centro-Oeste\n",
    "- **Regiao** : Nome da região\n",
    "- **UF** : Estado\n",
    "- **strRazaoSocial** : Razão social da empresa (Base de dados do Procon)\n",
    "- **strNomeFantasia** : Nome fantasia da empresa (Base de dados do Procon)\n",
    "- **Tipo** : 1 - Jurídica, 0 - Física\n",
    "- **NumeroCNPJ** : CNPJ completo\n",
    "- **RadicalCNPJ** : Primeiros 8 dígitos do CNPJ\n",
    "- **RazaoSocialRFB** : Razão social da empresa (Base de dados do Governo)\n",
    "- **NomeFantasiaRFB** : Nome fantasia da empresa (Base de dados do Governo)\n",
    "- **CNAEPrincipal** : Código de Atividade Econômica da empresa *([Mais informações](https://cnae.ibge.gov.br/))*\n",
    "- **DescCNAEPrincipal** : Descrição da Atividade Econômica da Empresa\n",
    "- **Atendida** : Indica se a reclamação foi atendida\n",
    "- **CodigoAssunto** : Código do assunto da reclamação\n",
    "- **DescricaoAssunto** : Descrição do assunto da reclamação\n",
    "- **CodigoProblema** : Código do problema relatado\n",
    "- **DescricaoProblema** : Descrição do problema relatado\n",
    "- **SexoConsumidor** : M - Masculino, F - Feminino\n",
    "- **FaixaEtariaConsumidor** : Faixa etária do consumidor\n",
    "- **CEPConsumidor** : Código postal do consumidor"
   ]
  },
  {
   "cell_type": "markdown",
   "metadata": {},
   "source": [
    "### Pré-processamento\n",
    "\n",
    "Vamos preparar nossos dados para as análises."
   ]
  },
  {
   "cell_type": "markdown",
   "metadata": {},
   "source": [
    "#### Qual a melhor coluna para identificar as empresas?\n",
    "\n",
    "Temos algumas formas de identificarmos as empresa: seja pelo CNPJ, pela razão social ou pelo nome fantasia, tanto pela base de dados do procon, quanto pela base de dados do governo. Vamos descobrir qual é a melhor."
   ]
  },
  {
   "cell_type": "markdown",
   "metadata": {},
   "source": [
    "Queremos a coluna que agrupe as reclamações das empresas o máximo possível. Ou seja, vamos escolher aquela que menos tenha valores nulos e mais tenha as reclamações de um mesmo grupo com um valor único."
   ]
  },
  {
   "cell_type": "code",
   "execution_count": 14,
   "metadata": {},
   "outputs": [],
   "source": [
    "total_reclamacoes = dataset.shape[0]"
   ]
  },
  {
   "cell_type": "code",
   "execution_count": 15,
   "metadata": {},
   "outputs": [],
   "source": [
    "melhor_coluna = dataset.filter(['NumeroCNPJ', 'strRazaoSocial', 'strNomeFantasia', 'RazaoSocialRFB', 'NomeFantasiaRFB'])\n",
    "num_nulos = total_reclamacoes - melhor_coluna.count()\n",
    "num_unicos = melhor_coluna.nunique()"
   ]
  },
  {
   "cell_type": "code",
   "execution_count": 16,
   "metadata": {},
   "outputs": [
    {
     "data": {
      "text/plain": [
       "NumeroCNPJ         0.882020\n",
       "strRazaoSocial     0.899140\n",
       "strNomeFantasia    0.763573\n",
       "RazaoSocialRFB     0.885154\n",
       "NomeFantasiaRFB    0.417665\n",
       "dtype: float64"
      ]
     },
     "execution_count": 16,
     "metadata": {},
     "output_type": "execute_result"
    }
   ],
   "source": [
    "1 - ((num_unicos + num_nulos)/total_reclamacoes)"
   ]
  },
  {
   "cell_type": "markdown",
   "metadata": {},
   "source": [
    "De acordo com os resultados, utilizaremos a coluna ```strRazaoSocial``` para identificar as empresas daqui para frente. Podemos, portanto, tornar nosso *dataset* mais leve ao retirar a informação duplicada da nossa base de dados."
   ]
  },
  {
   "cell_type": "code",
   "execution_count": 17,
   "metadata": {},
   "outputs": [],
   "source": [
    "lean_dataset = dataset.drop(['NumeroCNPJ', 'RadicalCNPJ', 'RazaoSocialRFB', 'NomeFantasiaRFB'], axis=1)"
   ]
  },
  {
   "cell_type": "markdown",
   "metadata": {},
   "source": [
    "#### Tratando o nome das empresas\n",
    "\n",
    "Agora que decidimos qual coluna utilizar, vamos tratar aspectos dos nomes que podem nos atrapalhar na hora de identificar a qual empresa percente uma reclamação, como variações de acentuação, pontuação e *stop-words* comuns da língua portuguesa."
   ]
  },
  {
   "cell_type": "code",
   "execution_count": 18,
   "metadata": {},
   "outputs": [],
   "source": [
    "stopwords = nltk.corpus.stopwords.words('portuguese')\n",
    "\n",
    "regras = [\n",
    "    ('Ã|Á', 'A'), \n",
    "    ('É|Ê', 'E'),  \n",
    "    ('Í', 'I'), \n",
    "    ('Õ|Ô|Ó', 'O'), \n",
    "    ('Ú', 'U'),\n",
    "    ('Ç', 'C'),\n",
    "    ('\\s{1}S\\s{0,1}A\\s{0,1}$', ''), \n",
    "    ('\\s{1}S\\s{0,1}A\\s{1}', ' '), \n",
    "    ('\\s{1}LTD\\s{0,1}$', ''), \n",
    "    ('LTD\\s{1}', ''), \n",
    "    ('\\s{1}LTDA\\s{0,1}$', ''), \n",
    "    ('\\s{1}LTDA\\s{1}', ' '), \n",
    "    ('\\s{1}INC\\s{0,1}$', ''), \n",
    "    ('\\s{1}INC\\s{1}', ' '), \n",
    "    ('\\s{1}ME\\s{0,1}$', ''), \n",
    "    ('\\s{1}ME\\s{1}', ' '),\n",
    "    ('\\s{2,3}', ' ')\n",
    "]"
   ]
  },
  {
   "cell_type": "code",
   "execution_count": 19,
   "metadata": {},
   "outputs": [],
   "source": [
    "empresas = []\n",
    "\n",
    "#removendo pontuação\n",
    "lean_dataset['strRazaoSocial'] = lean_dataset['strRazaoSocial'].fillna('').apply(lambda x: re.sub('[%s]' % re.escape(string.punctuation), ' ', x))\n",
    "\n",
    "for nome_empresa in lean_dataset['strRazaoSocial'].fillna('').values:    \n",
    "    nome = nome_empresa\n",
    "    \n",
    "    #removendo acentuação e stopwords de empresa\n",
    "    for pattern, replace in regras:\n",
    "        regex = re.compile(pattern)\n",
    "        nome = regex.sub(replace, nome)\n",
    "    \n",
    "    #removendo stop-words padrões\n",
    "    nome_quebrado = [segmento.upper() for segmento in nome.split() if segmento.lower() not in stopwords]\n",
    "        \n",
    "    empresas.append(' '.join(nome_quebrado).strip())\n",
    "    \n",
    "lean_dataset['strRazaoSocial'] = pd.Series(empresas)"
   ]
  },
  {
   "cell_type": "code",
   "execution_count": 20,
   "metadata": {},
   "outputs": [
    {
     "data": {
      "text/plain": [
       "0.9122639444411279"
      ]
     },
     "execution_count": 20,
     "metadata": {},
     "output_type": "execute_result"
    }
   ],
   "source": [
    "num_nulos = total_reclamacoes - lean_dataset['strRazaoSocial'].count()\n",
    "num_unicos = lean_dataset['strRazaoSocial'].nunique()\n",
    "1 - ((num_unicos + num_nulos)/total_reclamacoes)"
   ]
  },
  {
   "cell_type": "markdown",
   "metadata": {},
   "source": [
    "Pronto, agora temos um desempenho ainda melhor na coluna ```strRazaoSocial```. Poderíamos aplicar mais técnicas, porém correríamos o risco de perder a essência das informações contidas em cada nome, portanto iremos parar por aqui."
   ]
  },
  {
   "cell_type": "markdown",
   "metadata": {},
   "source": [
    "#### Transformando as datas\n",
    "\n",
    "Durante a identificação dos headers, observamos que as colunas ```DataAbertura``` e ```DataArquivamento``` estavam sendo lidas como ```string```. No entanto, para trabalhar com elas é ideal que elas sejam objetos ```datetime```. Faremos, portanto, essa mudança agora."
   ]
  },
  {
   "cell_type": "code",
   "execution_count": 21,
   "metadata": {},
   "outputs": [],
   "source": [
    "lean_dataset['DataAbertura'] = pd.to_datetime(lean_dataset['DataAbertura'], format=\"%Y-%m-%d %H:%M:%S.%f\")\n",
    "lean_dataset['DataArquivamento'] = pd.to_datetime(lean_dataset['DataArquivamento'], format=\"%Y-%m-%d %H:%M:%S.%f\")"
   ]
  },
  {
   "cell_type": "markdown",
   "metadata": {},
   "source": [
    "## Exploração dos datasets"
   ]
  },
  {
   "cell_type": "markdown",
   "metadata": {},
   "source": [
    "Finalmente, estamos prontos para analisar os nossos dados. **Relembrando: estamos interessados em descobrir as empresas mais odiadas.**"
   ]
  },
  {
   "cell_type": "markdown",
   "metadata": {},
   "source": [
    "### Visão macro (setorial)"
   ]
  },
  {
   "cell_type": "markdown",
   "metadata": {},
   "source": [
    "#### Total de reclamações por ano"
   ]
  },
  {
   "cell_type": "code",
   "execution_count": 22,
   "metadata": {},
   "outputs": [
    {
     "data": {
      "image/png": "[encoded data removed]",
      "text/plain": [
       "<matplotlib.figure.Figure at 0x43bc00b8>"
      ]
     },
     "metadata": {},
     "output_type": "display_data"
    }
   ],
   "source": [
    "reclamacoes_ano = lean_dataset['AnoCalendario'].value_counts().sort_index()\n",
    "ax = reclamacoes_ano.plot(\n",
    "    kind='bar'\n",
    ")\n",
    "\n",
    "ax.set_title('Reclamações por ano')\n",
    "ax.set_ylabel('Reclamações');\n",
    "sns.despine()"
   ]
  },
  {
   "cell_type": "markdown",
   "metadata": {},
   "source": [
    "#### Total de reclamações por setor"
   ]
  },
  {
   "cell_type": "code",
   "execution_count": 48,
   "metadata": {},
   "outputs": [],
   "source": [
    "setores = lean_dataset.groupby(['DescCNAEPrincipal', 'AnoCalendario']).size().to_frame('freq').reset_index()"
   ]
  },
  {
   "cell_type": "code",
   "execution_count": 49,
   "metadata": {
    "scrolled": true
   },
   "outputs": [
    {
     "data": {
      "image/png": "[encoded data removed]",
      "text/plain": [
       "<matplotlib.figure.Figure at 0x3595d2b0>"
      ]
     },
     "metadata": {},
     "output_type": "display_data"
    }
   ],
   "source": [
    "facet = sns.factorplot(\n",
    "    kind='bar',\n",
    "    orient='h',\n",
    "    data=setores.groupby('AnoCalendario').apply(pd.DataFrame.nlargest, columns=['freq'], n = 5),\n",
    "    x='freq',\n",
    "    y='DescCNAEPrincipal',\n",
    "    col='AnoCalendario'\n",
    ")\n",
    "\n",
    "facet.fig.tight_layout(w_pad=2)\n",
    "facet.set_ylabels('')\n",
    "facet.set_xlabels('Reclamações')\n",
    "facet.savefig(plot_path + 'setores.png')"
   ]
  },
  {
   "cell_type": "code",
   "execution_count": 24,
   "metadata": {},
   "outputs": [
    {
     "ename": "TypeError",
     "evalue": "Empty 'DataFrame': no numeric data to plot",
     "output_type": "error",
     "traceback": [
      "\u001b[1;31m---------------------------------------------------------------------------\u001b[0m",
      "\u001b[1;31mTypeError\u001b[0m                                 Traceback (most recent call last)",
      "\u001b[1;32m<ipython-input-24-84df57bb292f>\u001b[0m in \u001b[0;36m<module>\u001b[1;34m()\u001b[0m\n\u001b[0;32m      2\u001b[0m ax = rank_setores.sort_values().plot(\n\u001b[0;32m      3\u001b[0m     \u001b[0mkind\u001b[0m\u001b[1;33m=\u001b[0m\u001b[1;34m'barh'\u001b[0m\u001b[1;33m,\u001b[0m\u001b[1;33m\u001b[0m\u001b[0m\n\u001b[1;32m----> 4\u001b[1;33m     \u001b[0mfigsize\u001b[0m\u001b[1;33m=\u001b[0m\u001b[1;33m(\u001b[0m\u001b[1;36m7\u001b[0m\u001b[1;33m,\u001b[0m\u001b[1;36m10\u001b[0m\u001b[1;33m)\u001b[0m\u001b[1;33m\u001b[0m\u001b[0m\n\u001b[0m\u001b[0;32m      5\u001b[0m )\n\u001b[0;32m      6\u001b[0m \u001b[1;33m\u001b[0m\u001b[0m\n",
      "\u001b[1;32m~\\Anaconda3\\lib\\site-packages\\pandas\\plotting\\_core.py\u001b[0m in \u001b[0;36m__call__\u001b[1;34m(self, kind, ax, figsize, use_index, title, grid, legend, style, logx, logy, loglog, xticks, yticks, xlim, ylim, rot, fontsize, colormap, table, yerr, xerr, label, secondary_y, **kwds)\u001b[0m\n\u001b[0;32m   2501\u001b[0m                            \u001b[0mcolormap\u001b[0m\u001b[1;33m=\u001b[0m\u001b[0mcolormap\u001b[0m\u001b[1;33m,\u001b[0m \u001b[0mtable\u001b[0m\u001b[1;33m=\u001b[0m\u001b[0mtable\u001b[0m\u001b[1;33m,\u001b[0m \u001b[0myerr\u001b[0m\u001b[1;33m=\u001b[0m\u001b[0myerr\u001b[0m\u001b[1;33m,\u001b[0m\u001b[1;33m\u001b[0m\u001b[0m\n\u001b[0;32m   2502\u001b[0m                            \u001b[0mxerr\u001b[0m\u001b[1;33m=\u001b[0m\u001b[0mxerr\u001b[0m\u001b[1;33m,\u001b[0m \u001b[0mlabel\u001b[0m\u001b[1;33m=\u001b[0m\u001b[0mlabel\u001b[0m\u001b[1;33m,\u001b[0m \u001b[0msecondary_y\u001b[0m\u001b[1;33m=\u001b[0m\u001b[0msecondary_y\u001b[0m\u001b[1;33m,\u001b[0m\u001b[1;33m\u001b[0m\u001b[0m\n\u001b[1;32m-> 2503\u001b[1;33m                            **kwds)\n\u001b[0m\u001b[0;32m   2504\u001b[0m     \u001b[0m__call__\u001b[0m\u001b[1;33m.\u001b[0m\u001b[0m__doc__\u001b[0m \u001b[1;33m=\u001b[0m \u001b[0mplot_series\u001b[0m\u001b[1;33m.\u001b[0m\u001b[0m__doc__\u001b[0m\u001b[1;33m\u001b[0m\u001b[0m\n\u001b[0;32m   2505\u001b[0m \u001b[1;33m\u001b[0m\u001b[0m\n",
      "\u001b[1;32m~\\Anaconda3\\lib\\site-packages\\pandas\\plotting\\_core.py\u001b[0m in \u001b[0;36mplot_series\u001b[1;34m(data, kind, ax, figsize, use_index, title, grid, legend, style, logx, logy, loglog, xticks, yticks, xlim, ylim, rot, fontsize, colormap, table, yerr, xerr, label, secondary_y, **kwds)\u001b[0m\n\u001b[0;32m   1925\u001b[0m                  \u001b[0myerr\u001b[0m\u001b[1;33m=\u001b[0m\u001b[0myerr\u001b[0m\u001b[1;33m,\u001b[0m \u001b[0mxerr\u001b[0m\u001b[1;33m=\u001b[0m\u001b[0mxerr\u001b[0m\u001b[1;33m,\u001b[0m\u001b[1;33m\u001b[0m\u001b[0m\n\u001b[0;32m   1926\u001b[0m                  \u001b[0mlabel\u001b[0m\u001b[1;33m=\u001b[0m\u001b[0mlabel\u001b[0m\u001b[1;33m,\u001b[0m \u001b[0msecondary_y\u001b[0m\u001b[1;33m=\u001b[0m\u001b[0msecondary_y\u001b[0m\u001b[1;33m,\u001b[0m\u001b[1;33m\u001b[0m\u001b[0m\n\u001b[1;32m-> 1927\u001b[1;33m                  **kwds)\n\u001b[0m\u001b[0;32m   1928\u001b[0m \u001b[1;33m\u001b[0m\u001b[0m\n\u001b[0;32m   1929\u001b[0m \u001b[1;33m\u001b[0m\u001b[0m\n",
      "\u001b[1;32m~\\Anaconda3\\lib\\site-packages\\pandas\\plotting\\_core.py\u001b[0m in \u001b[0;36m_plot\u001b[1;34m(data, x, y, subplots, ax, kind, **kwds)\u001b[0m\n\u001b[0;32m   1727\u001b[0m         \u001b[0mplot_obj\u001b[0m \u001b[1;33m=\u001b[0m \u001b[0mklass\u001b[0m\u001b[1;33m(\u001b[0m\u001b[0mdata\u001b[0m\u001b[1;33m,\u001b[0m \u001b[0msubplots\u001b[0m\u001b[1;33m=\u001b[0m\u001b[0msubplots\u001b[0m\u001b[1;33m,\u001b[0m \u001b[0max\u001b[0m\u001b[1;33m=\u001b[0m\u001b[0max\u001b[0m\u001b[1;33m,\u001b[0m \u001b[0mkind\u001b[0m\u001b[1;33m=\u001b[0m\u001b[0mkind\u001b[0m\u001b[1;33m,\u001b[0m \u001b[1;33m**\u001b[0m\u001b[0mkwds\u001b[0m\u001b[1;33m)\u001b[0m\u001b[1;33m\u001b[0m\u001b[0m\n\u001b[0;32m   1728\u001b[0m \u001b[1;33m\u001b[0m\u001b[0m\n\u001b[1;32m-> 1729\u001b[1;33m     \u001b[0mplot_obj\u001b[0m\u001b[1;33m.\u001b[0m\u001b[0mgenerate\u001b[0m\u001b[1;33m(\u001b[0m\u001b[1;33m)\u001b[0m\u001b[1;33m\u001b[0m\u001b[0m\n\u001b[0m\u001b[0;32m   1730\u001b[0m     \u001b[0mplot_obj\u001b[0m\u001b[1;33m.\u001b[0m\u001b[0mdraw\u001b[0m\u001b[1;33m(\u001b[0m\u001b[1;33m)\u001b[0m\u001b[1;33m\u001b[0m\u001b[0m\n\u001b[0;32m   1731\u001b[0m     \u001b[1;32mreturn\u001b[0m \u001b[0mplot_obj\u001b[0m\u001b[1;33m.\u001b[0m\u001b[0mresult\u001b[0m\u001b[1;33m\u001b[0m\u001b[0m\n",
      "\u001b[1;32m~\\Anaconda3\\lib\\site-packages\\pandas\\plotting\\_core.py\u001b[0m in \u001b[0;36mgenerate\u001b[1;34m(self)\u001b[0m\n\u001b[0;32m    248\u001b[0m     \u001b[1;32mdef\u001b[0m \u001b[0mgenerate\u001b[0m\u001b[1;33m(\u001b[0m\u001b[0mself\u001b[0m\u001b[1;33m)\u001b[0m\u001b[1;33m:\u001b[0m\u001b[1;33m\u001b[0m\u001b[0m\n\u001b[0;32m    249\u001b[0m         \u001b[0mself\u001b[0m\u001b[1;33m.\u001b[0m\u001b[0m_args_adjust\u001b[0m\u001b[1;33m(\u001b[0m\u001b[1;33m)\u001b[0m\u001b[1;33m\u001b[0m\u001b[0m\n\u001b[1;32m--> 250\u001b[1;33m         \u001b[0mself\u001b[0m\u001b[1;33m.\u001b[0m\u001b[0m_compute_plot_data\u001b[0m\u001b[1;33m(\u001b[0m\u001b[1;33m)\u001b[0m\u001b[1;33m\u001b[0m\u001b[0m\n\u001b[0m\u001b[0;32m    251\u001b[0m         \u001b[0mself\u001b[0m\u001b[1;33m.\u001b[0m\u001b[0m_setup_subplots\u001b[0m\u001b[1;33m(\u001b[0m\u001b[1;33m)\u001b[0m\u001b[1;33m\u001b[0m\u001b[0m\n\u001b[0;32m    252\u001b[0m         \u001b[0mself\u001b[0m\u001b[1;33m.\u001b[0m\u001b[0m_make_plot\u001b[0m\u001b[1;33m(\u001b[0m\u001b[1;33m)\u001b[0m\u001b[1;33m\u001b[0m\u001b[0m\n",
      "\u001b[1;32m~\\Anaconda3\\lib\\site-packages\\pandas\\plotting\\_core.py\u001b[0m in \u001b[0;36m_compute_plot_data\u001b[1;34m(self)\u001b[0m\n\u001b[0;32m    363\u001b[0m         \u001b[1;32mif\u001b[0m \u001b[0mis_empty\u001b[0m\u001b[1;33m:\u001b[0m\u001b[1;33m\u001b[0m\u001b[0m\n\u001b[0;32m    364\u001b[0m             raise TypeError('Empty {0!r}: no numeric data to '\n\u001b[1;32m--> 365\u001b[1;33m                             'plot'.format(numeric_data.__class__.__name__))\n\u001b[0m\u001b[0;32m    366\u001b[0m \u001b[1;33m\u001b[0m\u001b[0m\n\u001b[0;32m    367\u001b[0m         \u001b[0mself\u001b[0m\u001b[1;33m.\u001b[0m\u001b[0mdata\u001b[0m \u001b[1;33m=\u001b[0m \u001b[0mnumeric_data\u001b[0m\u001b[1;33m\u001b[0m\u001b[0m\n",
      "\u001b[1;31mTypeError\u001b[0m: Empty 'DataFrame': no numeric data to plot"
     ]
    }
   ],
   "source": [
    "rank_setores = setores.stack().unstack(level=0).sum().sort_values(ascending=False)[:10]\n",
    "ax = rank_setores.sort_values().plot(\n",
    "    kind='barh',\n",
    "    figsize=(7,10)\n",
    ")\n",
    "\n",
    "ax.set_title('Setores com maior número de reclamações')\n",
    "ax.set_ylabel('')\n",
    "ax.set_xlabel('Reclamações');\n",
    "sns.despine()"
   ]
  },
  {
   "cell_type": "markdown",
   "metadata": {},
   "source": [
    "#### Total de reclamações por ano em cada setor"
   ]
  },
  {
   "cell_type": "code",
   "execution_count": null,
   "metadata": {},
   "outputs": [],
   "source": [
    "rank_setores_anual = setores.align(rank_setores, join='right', axis=0)[0]"
   ]
  },
  {
   "cell_type": "code",
   "execution_count": 120,
   "metadata": {},
   "outputs": [
    {
     "data": {
      "image/png": "[encoded data removed]",
      "text/plain": [
       "<matplotlib.figure.Figure at 0x3cb326d8>"
      ]
     },
     "metadata": {},
     "output_type": "display_data"
    }
   ],
   "source": [
    "width = 0.3\n",
    "ind = np.arange(len(rank_setores_anual[2012]))\n",
    "\n",
    "fig, ax = plt.subplots(figsize=(15,8))\n",
    "\n",
    "rects2012 = ax.bar(ind - width, rank_setores_anual[2012], width/2,\n",
    "                color='Blue', label='2012')\n",
    "rects2012 = ax.bar(ind - width/2, rank_setores_anual[2013], width/2,\n",
    "                color='Red', label='2013')\n",
    "rects2014 = ax.bar(ind, rank_setores_anual[2014], width/2,\n",
    "                color='Black', label='2014')\n",
    "rects2015 = ax.bar(ind + width/2, rank_setores_anual[2015], width/2,\n",
    "                color='Purple', label='2015')\n",
    "rects2016 = ax.bar(ind + width, rank_setores_anual[2016], width/2,\n",
    "                color='Green', label='2016')\n",
    "\n",
    "plt.xticks(rotation=90)\n",
    "ax.set_xticks(ind)\n",
    "ax.set_xticklabels(rank_setores_anual[2012].keys())\n",
    "ax.legend();"
   ]
  },
  {
   "cell_type": "markdown",
   "metadata": {},
   "source": [
    "#### Total de reclamações por empresa"
   ]
  },
  {
   "cell_type": "code",
   "execution_count": 113,
   "metadata": {},
   "outputs": [
    {
     "data": {
      "image/png": "[encoded data removed]",
      "text/plain": [
       "<matplotlib.figure.Figure at 0x34e0b4e0>"
      ]
     },
     "metadata": {},
     "output_type": "display_data"
    }
   ],
   "source": [
    "rank_empresas = lean_dataset['strRazaoSocial'].value_counts().sort_values(ascending=False)\n",
    "rank_empresas[:10].sort_values().plot(\n",
    "    kind='barh'\n",
    ");"
   ]
  },
  {
   "cell_type": "markdown",
   "metadata": {},
   "source": [
    "### Visão micro (empresarial)"
   ]
  },
  {
   "cell_type": "markdown",
   "metadata": {},
   "source": [
    "#### Frequência de reclamações\n",
    "\n",
    "De acordo com as métricas estabelecidas durante a descrição do problema, tentaremos encontrar algo que nos ajude na frequência de reclamações das empresas."
   ]
  },
  {
   "cell_type": "code",
   "execution_count": 115,
   "metadata": {},
   "outputs": [
    {
     "data": {
      "text/plain": [
       "count    105816.000000\n",
       "mean         11.397823\n",
       "std         211.969401\n",
       "min           1.000000\n",
       "25%           1.000000\n",
       "50%           1.000000\n",
       "75%           2.000000\n",
       "max       23176.000000\n",
       "Name: strRazaoSocial, dtype: float64"
      ]
     },
     "execution_count": 115,
     "metadata": {},
     "output_type": "execute_result"
    }
   ],
   "source": [
    "rank_reclamacoes = lean_dataset['strRazaoSocial'].value_counts()\n",
    "rank_reclamacoes.describe()"
   ]
  },
  {
   "cell_type": "code",
   "execution_count": 118,
   "metadata": {},
   "outputs": [],
   "source": [
    "norm_rank = minmax(rank_reclamacoes)"
   ]
  },
  {
   "cell_type": "code",
   "execution_count": null,
   "metadata": {},
   "outputs": [],
   "source": [
    "plt.scatter(norm_rank, rank_reclamacoes)\n",
    "plot_routine(title='Distribuição de reclamações por empresa', ylabel='Reclamações', file='dist-reclamacoes.png')"
   ]
  },
  {
   "cell_type": "code",
   "execution_count": null,
   "metadata": {},
   "outputs": [],
   "source": []
  }
 ],
 "metadata": {
  "kernelspec": {
   "display_name": "Python 3",
   "language": "python",
   "name": "python3"
  },
  "language_info": {
   "codemirror_mode": {
    "name": "ipython",
    "version": 3
   },
   "file_extension": ".py",
   "mimetype": "text/x-python",
   "name": "python",
   "nbconvert_exporter": "python",
   "pygments_lexer": "ipython3",
   "version": "3.6.4"
  },
  "latex_envs": {
   "LaTeX_envs_menu_present": true,
   "autoclose": true,
   "autocomplete": true,
   "bibliofile": "biblio.bib",
   "cite_by": "apalike",
   "current_citInitial": 1,
   "eqLabelWithNumbers": true,
   "eqNumInitial": 1,
   "hotkeys": {
    "equation": "Ctrl-E",
    "itemize": "Ctrl-I"
   },
   "labels_anchors": false,
   "latex_user_defs": false,
   "report_style_numbering": false,
   "user_envs_cfg": false
  },
  "varInspector": {
   "cols": {
    "lenName": 16,
    "lenType": 16,
    "lenVar": 40
   },
   "kernels_config": {
    "python": {
     "delete_cmd_postfix": "",
     "delete_cmd_prefix": "del ",
     "library": "var_list.py",
     "varRefreshCmd": "print(var_dic_list())"
    },
    "r": {
     "delete_cmd_postfix": ") ",
     "delete_cmd_prefix": "rm(",
     "library": "var_list.r",
     "varRefreshCmd": "cat(var_dic_list()) "
    }
   },
   "types_to_exclude": [
    "module",
    "function",
    "builtin_function_or_method",
    "instance",
    "_Feature"
   ],
   "window_display": false
  }
 },
 "nbformat": 4,
 "nbformat_minor": 2
}
