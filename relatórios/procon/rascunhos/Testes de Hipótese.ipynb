{
 "cells": [
  {
   "cell_type": "markdown",
   "metadata": {},
   "source": [
    "# Preparação do ambiente"
   ]
  },
  {
   "cell_type": "code",
   "execution_count": 1,
   "metadata": {},
   "outputs": [],
   "source": [
    "from datetime import datetime as dt, timedelta as tdelta\n",
    "import numpy as np\n",
    "import pandas as pd\n",
    "import matplotlib.pyplot as plt\n",
    "import seaborn as sns"
   ]
  },
  {
   "cell_type": "code",
   "execution_count": null,
   "metadata": {},
   "outputs": [],
   "source": [
    "data_path = '../data/'\n",
    "plot_path = '../plots/testes'"
   ]
  },
  {
   "cell_type": "code",
   "execution_count": 3,
   "metadata": {},
   "outputs": [
    {
     "name": "stderr",
     "output_type": "stream",
     "text": [
      "C:\\Users\\Joaquim\\Anaconda3\\lib\\site-packages\\IPython\\core\\interactiveshell.py:2728: DtypeWarning: Columns (22) have mixed types. Specify dtype option on import or set low_memory=False.\n",
      "  interactivity=interactivity, compiler=compiler, result=result)\n"
     ]
    }
   ],
   "source": [
    "procon12 = pd.read_csv(data_path + 'reclamacoes-2012.csv')\n",
    "procon13 = pd.read_csv(data_path + './data/reclamacoes-2013.csv')\n",
    "procon14 = pd.read_csv(data_path + './data/reclamacoes-2014.csv')\n",
    "procon15 = pd.read_csv(data_path + './data/reclamacoes-2015.csv')\n",
    "procon16 = pd.read_csv(data_path + './data/reclamacoes-2016.csv')\n",
    "\n",
    "dataset = procon12.append(procon13).append(procon14).append(procon15).append(procon16)"
   ]
  },
  {
   "cell_type": "code",
   "execution_count": 3,
   "metadata": {},
   "outputs": [],
   "source": [
    "def plot_routine(title='', xlabel='', ylabel='', file=''):\n",
    "    plt.title(title)\n",
    "    plt.xlabel(xlabel)\n",
    "    plt.ylabel(ylabel)\n",
    "    plt.savefig(plot_path + file)"
   ]
  },
  {
   "cell_type": "markdown",
   "metadata": {},
   "source": [
    "# Exploração dos dados"
   ]
  },
  {
   "cell_type": "markdown",
   "metadata": {},
   "source": [
    "## Número de reclamações por ano"
   ]
  },
  {
   "cell_type": "code",
   "execution_count": 4,
   "metadata": {},
   "outputs": [],
   "source": [
    "reclamacoes12 = (len(procon12), procon12['RazaoSocialRFB'].value_counts())\n",
    "reclamacoes13 = (len(procon13), procon13['RazaoSocialRFB'].value_counts())\n",
    "reclamacoes14 = (len(procon14), procon14['RazaoSocialRFB'].value_counts())\n",
    "reclamacoes15 = (len(procon15), procon15['RazaoSocialRFB'].value_counts())\n",
    "reclamacoes16 = (len(procon16), procon16['RazaoSocialRFB'].value_counts())"
   ]
  },
  {
   "cell_type": "code",
   "execution_count": 5,
   "metadata": {},
   "outputs": [],
   "source": [
    "anos = ['2012', '2013', '2014', '2015', '2016']\n",
    "total_reclamacoes_anos = [reclamacoes12[0], reclamacoes13[0], reclamacoes14[0], reclamacoes15[0], reclamacoes16[0]]"
   ]
  },
  {
   "cell_type": "code",
   "execution_count": 6,
   "metadata": {},
   "outputs": [
    {
     "data": {
      "image/png": "[encoded data removed]",
      "text/plain": [
       "<matplotlib.figure.Figure at 0x275c4198>"
      ]
     },
     "metadata": {},
     "output_type": "display_data"
    }
   ],
   "source": [
    "sns.barplot(anos, total_reclamacoes_anos)\n",
    "plot_routine(title='Total de reclamaçoes por ano', xlabel='Ano', ylabel='Reclamações', file='testes/total-reclamacoes-ano.png')"
   ]
  },
  {
   "cell_type": "markdown",
   "metadata": {},
   "source": [
    "## Qual a melhor coluna de nome para utilizarmos?"
   ]
  },
  {
   "cell_type": "code",
   "execution_count": 72,
   "metadata": {},
   "outputs": [
    {
     "data": {
      "text/plain": [
       "[211076, 211076, 211076, 211076]"
      ]
     },
     "execution_count": 72,
     "metadata": {},
     "output_type": "execute_result"
    }
   ],
   "source": [
    "total_empresas = [len(procon12['RazaoSocialRFB']), len(procon12['NomeFantasiaRFB']), len(procon12['strRazaoSocial']), len(procon12['strNomeFantasia'])]\n",
    "total_empresas"
   ]
  },
  {
   "cell_type": "code",
   "execution_count": 8,
   "metadata": {},
   "outputs": [
    {
     "data": {
      "text/plain": [
       "[200214, 90245, 211076, 172723]"
      ]
     },
     "execution_count": 8,
     "metadata": {},
     "output_type": "execute_result"
    }
   ],
   "source": [
    "empresas_nna = [procon12['RazaoSocialRFB'].count(), procon12['NomeFantasiaRFB'].count(), procon12['strRazaoSocial'].count(), procon12['strNomeFantasia'].count()]\n",
    "empresas_nna\n",
    "#procon12['NumeroCNPJ'].count()"
   ]
  },
  {
   "cell_type": "code",
   "execution_count": 9,
   "metadata": {},
   "outputs": [
    {
     "data": {
      "text/plain": [
       "[16620, 10842, 27785, 20145]"
      ]
     },
     "execution_count": 9,
     "metadata": {},
     "output_type": "execute_result"
    }
   ],
   "source": [
    "empresas_unicas = [len(procon12['RazaoSocialRFB'].unique()), len(procon12['NomeFantasiaRFB'].unique()), len(procon12['strRazaoSocial'].unique()), len(procon12['strNomeFantasia'].unique())]\n",
    "empresas_unicas\n",
    "#len(procon12['NumeroCNPJ'].unique())"
   ]
  },
  {
   "cell_type": "code",
   "execution_count": 77,
   "metadata": {},
   "outputs": [
    {
     "data": {
      "text/plain": [
       "19340"
      ]
     },
     "execution_count": 77,
     "metadata": {},
     "output_type": "execute_result"
    }
   ],
   "source": [
    "len(procon16['RazaoSocialRFB'].unique())"
   ]
  },
  {
   "cell_type": "markdown",
   "metadata": {},
   "source": [
    "# Lojas Americanas"
   ]
  },
  {
   "cell_type": "code",
   "execution_count": null,
   "metadata": {},
   "outputs": [],
   "source": [
    "la = procon12.where(procon12['NomeFantasiaRFB'] == 'Lojas Americanas')\n",
    "la.count()"
   ]
  },
  {
   "cell_type": "code",
   "execution_count": 18,
   "metadata": {},
   "outputs": [],
   "source": [
    "dataset = pd.concat([procon12, procon13, procon14, procon15, procon16], ignore_index=True)"
   ]
  },
  {
   "cell_type": "code",
   "execution_count": 7,
   "metadata": {},
   "outputs": [],
   "source": [
    "import nltk"
   ]
  },
  {
   "cell_type": "code",
   "execution_count": null,
   "metadata": {},
   "outputs": [],
   "source": [
    "```dataset['strRazaoSocial'] = dataset['strRazaoSocial'] \\\n",
    "                                .str.replace('S.A.','')\\\n",
    "                                .str.replace('S.A','')\\\n",
    "                                .str.replace('S/A','')\\\n",
    "                                .str.replace(' LTDA', '')\\\n",
    "                                .str.replace(' LTDA.', '')\\\n",
    "                                .str.replace('  ', '')\\\n",
    "                                .str.replace('Ç', 'C')\\\n",
    "                                .str.replace('Ó', 'O')\\\n",
    "                                .str.replace('Ã', 'A')\\\n",
    "                                .str.replace('Ú', 'U')```"
   ]
  },
  {
   "cell_type": "code",
   "execution_count": 26,
   "metadata": {},
   "outputs": [
    {
     "ename": "AttributeError",
     "evalue": "'float' object has no attribute 'lower'",
     "output_type": "error",
     "traceback": [
      "\u001b[1;31m---------------------------------------------------------------------------\u001b[0m",
      "\u001b[1;31mAttributeError\u001b[0m                            Traceback (most recent call last)",
      "\u001b[1;32m<ipython-input-26-3c5e6fc8ffa9>\u001b[0m in \u001b[0;36m<module>\u001b[1;34m()\u001b[0m\n\u001b[0;32m      1\u001b[0m \u001b[0mstemmer\u001b[0m \u001b[1;33m=\u001b[0m \u001b[0mnltk\u001b[0m\u001b[1;33m.\u001b[0m\u001b[0mSnowballStemmer\u001b[0m\u001b[1;33m(\u001b[0m\u001b[1;34m\"portuguese\"\u001b[0m\u001b[1;33m)\u001b[0m\u001b[1;33m\u001b[0m\u001b[0m\n\u001b[1;32m----> 2\u001b[1;33m \u001b[0mstemmed\u001b[0m \u001b[1;33m=\u001b[0m \u001b[1;33m[\u001b[0m\u001b[0mstemmer\u001b[0m\u001b[1;33m.\u001b[0m\u001b[0mstem\u001b[0m\u001b[1;33m(\u001b[0m\u001b[0mstring\u001b[0m\u001b[1;33m)\u001b[0m \u001b[1;32mfor\u001b[0m \u001b[0mstring\u001b[0m \u001b[1;32min\u001b[0m \u001b[0mdataset\u001b[0m\u001b[1;33m[\u001b[0m\u001b[1;34m'strRazaoSocial'\u001b[0m\u001b[1;33m]\u001b[0m\u001b[1;33m.\u001b[0m\u001b[0mvalues\u001b[0m\u001b[1;33m]\u001b[0m\u001b[1;33m\u001b[0m\u001b[0m\n\u001b[0m",
      "\u001b[1;32m<ipython-input-26-3c5e6fc8ffa9>\u001b[0m in \u001b[0;36m<listcomp>\u001b[1;34m(.0)\u001b[0m\n\u001b[0;32m      1\u001b[0m \u001b[0mstemmer\u001b[0m \u001b[1;33m=\u001b[0m \u001b[0mnltk\u001b[0m\u001b[1;33m.\u001b[0m\u001b[0mSnowballStemmer\u001b[0m\u001b[1;33m(\u001b[0m\u001b[1;34m\"portuguese\"\u001b[0m\u001b[1;33m)\u001b[0m\u001b[1;33m\u001b[0m\u001b[0m\n\u001b[1;32m----> 2\u001b[1;33m \u001b[0mstemmed\u001b[0m \u001b[1;33m=\u001b[0m \u001b[1;33m[\u001b[0m\u001b[0mstemmer\u001b[0m\u001b[1;33m.\u001b[0m\u001b[0mstem\u001b[0m\u001b[1;33m(\u001b[0m\u001b[0mstring\u001b[0m\u001b[1;33m)\u001b[0m \u001b[1;32mfor\u001b[0m \u001b[0mstring\u001b[0m \u001b[1;32min\u001b[0m \u001b[0mdataset\u001b[0m\u001b[1;33m[\u001b[0m\u001b[1;34m'strRazaoSocial'\u001b[0m\u001b[1;33m]\u001b[0m\u001b[1;33m.\u001b[0m\u001b[0mvalues\u001b[0m\u001b[1;33m]\u001b[0m\u001b[1;33m\u001b[0m\u001b[0m\n\u001b[0m",
      "\u001b[1;32m~\\Anaconda3\\lib\\site-packages\\nltk\\stem\\snowball.py\u001b[0m in \u001b[0;36mstem\u001b[1;34m(self, word)\u001b[0m\n\u001b[0;32m   3006\u001b[0m \u001b[1;33m\u001b[0m\u001b[0m\n\u001b[0;32m   3007\u001b[0m         \"\"\"\n\u001b[1;32m-> 3008\u001b[1;33m         \u001b[0mword\u001b[0m \u001b[1;33m=\u001b[0m \u001b[0mword\u001b[0m\u001b[1;33m.\u001b[0m\u001b[0mlower\u001b[0m\u001b[1;33m(\u001b[0m\u001b[1;33m)\u001b[0m\u001b[1;33m\u001b[0m\u001b[0m\n\u001b[0m\u001b[0;32m   3009\u001b[0m \u001b[1;33m\u001b[0m\u001b[0m\n\u001b[0;32m   3010\u001b[0m         \u001b[1;32mif\u001b[0m \u001b[0mword\u001b[0m \u001b[1;32min\u001b[0m \u001b[0mself\u001b[0m\u001b[1;33m.\u001b[0m\u001b[0mstopwords\u001b[0m\u001b[1;33m:\u001b[0m\u001b[1;33m\u001b[0m\u001b[0m\n",
      "\u001b[1;31mAttributeError\u001b[0m: 'float' object has no attribute 'lower'"
     ]
    }
   ],
   "source": [
    "stemmer = nltk.SnowballStemmer(\"portuguese\")\n",
    "stemmed = [stemmer.stem(string) for string in dataset['strRazaoSocial'].values]"
   ]
  },
  {
   "cell_type": "code",
   "execution_count": 6,
   "metadata": {
    "scrolled": false
   },
   "outputs": [
    {
     "data": {
      "text/plain": [
       "strRazaoSocial\n",
       "CLARO                                                       20620\n",
       "TELEMAR NORTE LESTE                                         18568\n",
       "TIM CELULAR                                                 14905\n",
       "SAMSUNG ELETRONICA DA AMAZONIA                              14720\n",
       "SKY BRASIL SERVICOS                                         14338\n",
       "VIA VAREJO                                                  13340\n",
       "OI MOVEL                                                    11053\n",
       "TNL PCS                                                     10621\n",
       "TELEFONICA BRASIL                                           10377\n",
       "DIGIBRAS INDUSTRIA DO BRASIL                                10049\n",
       "CAIXA ECONOMICA FEDERAL                                      9230\n",
       "ELECTROLUX DO BRASIL                                         8985\n",
       "BANCO ITAUCARD                                               8242\n",
       "RICARDO ELETRO DIVINOPOLIS                                   7657\n",
       "MAGAZINE LUIZA                                               7608\n",
       "MOTOROLA INDUSTRIAL                                          7304\n",
       "BANCO BMG                                                    6934\n",
       "BANCO SANTANDER (BRASIL)                                     6791\n",
       "OI                                                           6403\n",
       "NOKIA DO BRASIL TECNOLOGIA                                   6387\n",
       "WHIRLPOOL                                                    6220\n",
       "VIVO                                                         6117\n",
       "BV FINANCEIRA SA CREDITO FINANCIAMENTO E INVESTIMENTO        6098\n",
       "CARDIF DO BRASIL SEGUROS E GARANTIAS                         5952\n",
       "LOJAS INSINUANTE                                             5424\n",
       "BANCO BMG SA                                                 5396\n",
       "B2W - COMPANHIA GLOBAL DO VAREJO                             5008\n",
       "LG ELECTRONICS DO BRASIL                                     4823\n",
       "BANCO DO BRASIL                                              4805\n",
       "LOJAERICANAS                                                 4795\n",
       "                                                            ...  \n",
       "REFRIGERACAO SAO JORGE                                          1\n",
       "IA FITNESS E COMERCIO DE EQUIPAMENTOS PARA GINASTI              1\n",
       "IA FITNESS E COMERCIO DE EQUIPAMENTOS PARA GINASTICA EPP        1\n",
       "REFRIGERACAO SAO JERONIMO                                       1\n",
       "IAAF - INDUSTRIA ALAGOANA DE ARTEFATOS DE FIBRAS L              1\n",
       "IAB - INSTITUTO AUDIOLOGICO DE BRASILIA                         1\n",
       "REFRIGERACAO SANTO AMARO                                        1\n",
       "IADE LIVROS COMERCIO DE MATERIAL DIDATICO                       1\n",
       "IADERN - INST. DE APOIO E DES. EMP.E EDU.RN                     1\n",
       "IAGO CHAVES                                                     1\n",
       "I9 MIDIA VI                                                     1\n",
       "I9 CONTACT CENTER EIRELI-ME                                     1\n",
       "I.M.CARVALHO DANTAS -ME                                         1\n",
       "I9 COMERCIO DE PRODUTOS DE COSMETICOS EIRELI - EPP              1\n",
       "I.M.EL HINDI ME.                                                1\n",
       "I.N CANABRAVA-ME                                                1\n",
       "I.N.REGIS DE MOURA LISBOA                                       1\n",
       "I.P.CLEANING IND E COM                                          1\n",
       "I.P.CLEANING INDUSTRIA E COMERCIO                               1\n",
       "I.P.DELFINO EMPREEDIMENTOS - ME                                 1\n",
       "I.R MACIEL                                                      1\n",
       "I.R. DOS SANTOS                                                 1\n",
       "I.S. TAVARES IMOVEIS - ME                                       1\n",
       "I.S.COMERCIO E SERVICOS ME                                      1\n",
       "REFRIGERACAO SAO LUCAS                                          1\n",
       "I.S.E.M. COMERCIO DE COLCHÕES - ME                              1\n",
       "I.S.P.D. COM COMERCIAL INFORMATICA - EPP                        1\n",
       "I.T. DOS SANTOS ELETROAR                                        1\n",
       "I.V.A IGUACU COMÉRCIO DE MIUDEZAS                               1\n",
       "J M PNEUS E RENOVADORA                                          1\n",
       "Length: 116928, dtype: int64"
      ]
     },
     "execution_count": 6,
     "metadata": {},
     "output_type": "execute_result"
    }
   ],
   "source": [
    "dataset.groupby(['strRazaoSocial']).size().groupby(level=0).max().sort_values(ascending=False)"
   ]
  },
  {
   "cell_type": "code",
   "execution_count": 50,
   "metadata": {
    "scrolled": false
   },
   "outputs": [
    {
     "data": {
      "text/plain": [
       "RazaoSocialRFB                                                                                 strRazaoSocial                                       \n",
       "TELEMAR NORTE LESTE S/A                                                                        TELEMAR NORTE LESTE S/A                                  17972\n",
       "SAMSUNG ELETRONICA DA AMAZONIA LTDA                                                            SAMSUNG ELETRONICA DA AMAZONIA LTDA                      14654\n",
       "TNL PCS S/A                                                                                    TNL PCS S/A                                              10265\n",
       "CLARO S.A.                                                                                     CLARO S.A.                                                9486\n",
       "CAIXA ECONOMICA FEDERAL                                                                        CAIXA ECONOMICA FEDERAL                                   9084\n",
       "ELECTROLUX DO BRASIL S/A                                                                       ELECTROLUX DO BRASIL S/A                                  8321\n",
       "SKY BRASIL SERVICOS LTDA                                                                       SKY BRASIL SERVICOS LTDA                                  7997\n",
       "CLARO S.A.                                                                                     CLARO S/A                                                 7599\n",
       "TIM CELULAR S.A.                                                                               TIM CELULAR S/A                                           7354\n",
       "TELEFONICA BRASIL S.A.                                                                         TELEFONICA BRASIL S/A                                     7353\n",
       "DIGIBRAS INDUSTRIA DO BRASIL S/A                                                               DIGIBRAS INDUSTRIA DO BRASIL S/A                          7218\n",
       "VIA VAREJO S/A                                                                                 VIA VAREJO S/A                                            6920\n",
       "MAGAZINE LUIZA S/A                                                                             MAGAZINE LUIZA S/A                                        6768\n",
       "TIM CELULAR S.A.                                                                               TIM CELULAR S.A.                                          6687\n",
       "NOKIA DO BRASIL TECNOLOGIA LTDA                                                                NOKIA DO BRASIL TECNOLOGIA LTDA                           6302\n",
       "SKY BRASIL SERVICOS LTDA                                                                       SKY BRASIL SERVIÇOS LTDA                                  6204\n",
       "BV FINANCEIRA SA CREDITO FINANCIAMENTO E INVESTIMENTO                                          BV FINANCEIRA SA CREDITO FINANCIAMENTO E INVESTIMENTO     6098\n",
       "CARDIF DO BRASIL SEGUROS E GARANTIAS S/A                                                       CARDIF DO BRASIL SEGUROS E GARANTIAS S/A                  5864\n",
       "MOTOROLA MOBILITY COMERCIO DE PRODUTOS ELETRONICOS LTDA                                        MOTOROLA INDUSTRIAL LTDA                                  5488\n",
       "BANCO BMG SA                                                                                   BANCO BMG SA                                              5396\n",
       "                                                                                               BANCO BMG S/A                                             5272\n",
       "LOJAS INSINUANTE LTDA                                                                          LOJAS INSINUANTE LTDA                                     5259\n",
       "VIA VAREJO S/A                                                                                 VIA VAREJO S.A                                            5107\n",
       "B2W - COMPANHIA GLOBAL DO VAREJO                                                               B2W - COMPANHIA GLOBAL DO VAREJO                          4866\n",
       "LG ELECTRONICS DO BRASIL LTDA                                                                  LG ELECTRONICS DO BRASIL LTDA                             4796\n",
       "BANCO SANTANDER (BRASIL) S.A.                                                                  BANCO SANTANDER (BRASIL) S.A.                             4664\n",
       "WHIRLPOOL S.A                                                                                  WHIRLPOOL S.A                                             4525\n",
       "TELEMAR NORTE LESTE S/A                                                                        TELEMAR NORTE E LESTE S/A                                 4425\n",
       "VIVO S.A.                                                                                      VIVO S.A.                                                 4365\n",
       "BANCO BRADESCO SA                                                                              BANCO BRADESCO SA                                         4103\n",
       "                                                                                                                                                        ...  \n",
       "LUPERCALE COMERCIO DE BOLSAS E CALCADOS LTDA                                                   LUPERCALE COMÉRCIO DE BOLSAS E CALÇADOS LTDA.                1\n",
       "LUPERCIO DOS SANTOS FERREIRA 09381373876                                                       LUPERCIO DOS SANTOS FERREIRA 09381373876                     1\n",
       "LUPI CAR COMERCIO DE VEICULOS LTDA                                                             LUPI CAR COMÉRCIO DE VEÍCULOS LTDA                           1\n",
       "LUPPI & KASTELIC LTDA                                                                          TIAGO LUPPY                                                  1\n",
       "LUPPI ELETROMOVEIS LTDA ME                                                                     LUPPI ELETROMOVEIS LTDA ME                                   1\n",
       "LUPUS SOLUCOES DE REDES DE COMPUTADORES LTDA - ME                                              LUPUS SOLUÇÕES DE REDE  DE COMPUTADORES LTDA                 1\n",
       "                                                                                               LUPUS SOLUÇÕES DE REDES DE COMPUTADORES LTDA                 1\n",
       "                                                                                               LUPUS SOLUÇÕES DE REDES DE COMPUTADORES LTDA-ME              1\n",
       "                                                                                               LUPUS SOLUÇÕES DE REDES DE COMPUTADORES LTDA.                1\n",
       "LURDES FERREIRA - ME                                                                           LURDES FERREIRA ME                                           1\n",
       "LURY HEBE FORTUNATO DOS SANTOS                                                                 LURY HEBE FORTUNATO DOS SANTOS                               1\n",
       "LUPA COMERCIO DE AUTOMOVEIS LTDA - ME                                                          LUPA COMERCIO DE AUTOMOVEIS LTDA - ME                        1\n",
       "LUNEYDE FIGUEIRA CRUZ - EDICOES- ME                                                            LUNEYDE FIGUEIRA CRUZ EDIÇOES - ME                           1\n",
       "                                                                                               LUNEYDE FIGUEIRA CRUZ - EDICOES - ME                         1\n",
       "LUNA IMPORTACAO E EXPORTACAO LTDA                                                              LUNA IMPORTACAO E EXPORTACAO LTDA                            1\n",
       "LUNA & OLIVEIRA LTDA ME                                                                        LUNA & OLIVEIRA  LTDA -ME                                    1\n",
       "LUNA & SANTOS OTICA LTDA - ME                                                                  LUNA SANTOS OTICA LTDA ME                                    1\n",
       "LUNA COMERCIO DE CALCADOS E ACESSORIOS LTDA                                                    LUNA COMERCIO DE CALCADOS E ACESSORIOS LTDA - ME             1\n",
       "LUNA FERRAGENS LTDA                                                                            LUNA FERRAGENS LTDA                                          1\n",
       "LUNA IMPORT COMERCIO E SERVICOS DE INFORMATICA LTDA - ME                                       LUNA IMPORT COM. E SERVIÇOS DE INFORMÁTICA LTDA              1\n",
       "                                                                                               LUNA IMPORT COM. SERVICOS DE INFORMATICA LTDA ME             1\n",
       "LUNA INVESTIMENTOS LTDA                                                                        LUNA INVESTIMENTOS LTDA                                      1\n",
       "LUNETTI FOTO E OTICA LTDA EPP                                                                  LUNETTI FOTO E OTICA LTDA EPP                                1\n",
       "LUNA MOVEIS E ELETRO LTDA ME                                                                   LUNA MOVEIS E ELETRO LTDA ME                                 1\n",
       "LUNA PRESENTES LTDA                                                                            LUNA PRESENTES LTDA                                          1\n",
       "LUNAN CURSOS E ASSESSORIA LTDA                                                                 LUNAN CURSOS E ASSESSORIA LTDA                               1\n",
       "LUNATUR AGENCIA DE TURISMO LTDA - ME                                                           LUNA TUR                                                     1\n",
       "LUNDA DISTRIBUIDORA IMPORTACAO E EXPORTACAO DE EQUIPAMENTOS DE SEGURANCA ELETRONICA LTDA - ME  LUNDA DISTR. IMPORT. EXPORT. DE EQUIP. DE SEG. ELE           1\n",
       "LUNETA PAULISTA COMERCIO DE OCULOS,RELOGIOS E ACESSORIOS LTDA - EPP                            LUNETA PAULISTA COM ÓCULOS, REL E ACESS LTDA EPP             1\n",
       "'' LABORATORIO OSLER DO BRASIL LTDA.''                                                         LABORATORIO OSLER DO BRASIL LTDA                             1\n",
       "Length: 98247, dtype: int64"
      ]
     },
     "execution_count": 50,
     "metadata": {},
     "output_type": "execute_result"
    }
   ],
   "source": [
    "dataset.groupby(['RazaoSocialRFB', 'strRazaoSocial']).size().sort_values(ascending=False)"
   ]
  }
 ],
 "metadata": {
  "kernelspec": {
   "display_name": "Python 3",
   "language": "python",
   "name": "python3"
  },
  "language_info": {
   "codemirror_mode": {
    "name": "ipython",
    "version": 3
   },
   "file_extension": ".py",
   "mimetype": "text/x-python",
   "name": "python",
   "nbconvert_exporter": "python",
   "pygments_lexer": "ipython3",
   "version": "3.6.4"
  },
  "latex_envs": {
   "LaTeX_envs_menu_present": true,
   "autoclose": true,
   "autocomplete": true,
   "bibliofile": "biblio.bib",
   "cite_by": "apalike",
   "current_citInitial": 1,
   "eqLabelWithNumbers": true,
   "eqNumInitial": 1,
   "hotkeys": {
    "equation": "Ctrl-E",
    "itemize": "Ctrl-I"
   },
   "labels_anchors": false,
   "latex_user_defs": false,
   "report_style_numbering": false,
   "user_envs_cfg": false
  },
  "varInspector": {
   "cols": {
    "lenName": 16,
    "lenType": 16,
    "lenVar": 40
   },
   "kernels_config": {
    "python": {
     "delete_cmd_postfix": "",
     "delete_cmd_prefix": "del ",
     "library": "var_list.py",
     "varRefreshCmd": "print(var_dic_list())"
    },
    "r": {
     "delete_cmd_postfix": ") ",
     "delete_cmd_prefix": "rm(",
     "library": "var_list.r",
     "varRefreshCmd": "cat(var_dic_list()) "
    }
   },
   "types_to_exclude": [
    "module",
    "function",
    "builtin_function_or_method",
    "instance",
    "_Feature"
   ],
   "window_display": false
  }
 },
 "nbformat": 4,
 "nbformat_minor": 2
}
