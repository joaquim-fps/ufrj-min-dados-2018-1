{
 "cells": [
  {
   "cell_type": "markdown",
   "metadata": {},
   "source": [
    "# Relatório - Análise de reclamações do Procon"
   ]
  },
  {
   "cell_type": "markdown",
   "metadata": {},
   "source": [
    "## Descrição do problema"
   ]
  },
  {
   "cell_type": "markdown",
   "metadata": {},
   "source": [
    "<a id='description'></a>\n",
    "Utilizando o framework de análise descrito em aula e as técnicas de visualização apropriadas, será realizada uma análise sobre o *[dataset de reclamações do procon](https://www.kaggle.com/gerosa/procon/data)*. \n",
    "\n",
    "**O intuito da análise é descobrir quais são as empresas mais odiadas pelos consumidores.**\n"
   ]
  },
  {
   "cell_type": "markdown",
   "metadata": {},
   "source": [
    "Primeiramente, devemos pensar mais sobre a questão em si: **o que leva o consumidor a ter uma opinião negativa acerca de uma empresa?**\n",
    "\n",
    "Podemos levantar algumas hipóteses:\n",
    "\n",
    "- Os clientes tem problemas frequentes com aquela empresa\n",
    "- A empresa não é capaz de resolver o problema do consumidor\n",
    "- Há uma demora na resolução da reclamação\n",
    "\n",
    "Diante dessas suposições, estabelecemos algumas métricas para medir o desempenho das empresas:\n",
    "\n",
    "- Frequência de reclamações\n",
    "- Porcentagem de reclamações atendidas\n",
    "- Tempo médio entre a abertura e o arquivamento das reclamações\n",
    "\n",
    "Além disso, se realizarmos uma avaliação setorial, obteremos mais informações a respeito de quais problemas são mais frequentes para os consumidores."
   ]
  },
  {
   "cell_type": "markdown",
   "metadata": {},
   "source": [
    "## Caracterização inicial dos datasets\n",
    "\n",
    "Com a nossa problemática já bem definida, agora precisamos entender melhor como nossos dados estão estruturados antes de explorá-los."
   ]
  },
  {
   "cell_type": "markdown",
   "metadata": {},
   "source": [
    "### Configuração do ambiente\n",
    "\n",
    "Vamos carregar as bibliotecas necessárias para trabalhar com as nossas bases de dados para, então, ler nossos *datasets*."
   ]
  },
  {
   "cell_type": "code",
   "execution_count": 26,
   "metadata": {},
   "outputs": [],
   "source": [
    "import numpy as np\n",
    "import pandas as pd\n",
    "import matplotlib.pyplot as plt\n",
    "import seaborn as sns"
   ]
  },
  {
   "cell_type": "code",
   "execution_count": 27,
   "metadata": {},
   "outputs": [],
   "source": [
    "data_path = '../data/'\n",
    "plot_path = '../plots/'"
   ]
  },
  {
   "cell_type": "code",
   "execution_count": 28,
   "metadata": {
    "scrolled": false
   },
   "outputs": [
    {
     "name": "stderr",
     "output_type": "stream",
     "text": [
      "C:\\Users\\Joaquim\\Anaconda3\\lib\\site-packages\\IPython\\core\\interactiveshell.py:2728: DtypeWarning: Columns (22) have mixed types. Specify dtype option on import or set low_memory=False.\n",
      "  interactivity=interactivity, compiler=compiler, result=result)\n"
     ]
    }
   ],
   "source": [
    "procon12 = pd.read_csv(data_path + 'reclamacoes-2012.csv')\n",
    "procon13 = pd.read_csv(data_path + 'reclamacoes-2013.csv')\n",
    "procon14 = pd.read_csv(data_path + 'reclamacoes-2014.csv')\n",
    "procon15 = pd.read_csv(data_path + 'reclamacoes-2015.csv')\n",
    "procon16 = pd.read_csv(data_path + 'reclamacoes-2016.csv')"
   ]
  },
  {
   "cell_type": "markdown",
   "metadata": {},
   "source": [
    "#### Definição de funções auxiliares\n",
    "\n",
    "Para manter nosso código mais limpo, vamos definir algumas funções."
   ]
  },
  {
   "cell_type": "code",
   "execution_count": 29,
   "metadata": {},
   "outputs": [],
   "source": [
    "def plot_routine(title='', xlabel='', ylabel='', file=''):\n",
    "    plt.title(title)\n",
    "    plt.xlabel(xlabel)\n",
    "    plt.ylabel(ylabel)\n",
    "    plt.savefig(plot_path + file)\n",
    "    \n",
    "def table_stemming(lexic, table):\n",
    "    stemmed_lexic = []\n",
    "\n",
    "    for words in lexic:\n",
    "        a = ''\n",
    "        null_str = ''\n",
    "    \n",
    "        for string in words:\n",
    "            if string in table:\n",
    "                if a == '':\n",
    "                    a = string\n",
    "                else:\n",
    "                    a = a + ' ' + string\n",
    "            else:\n",
    "                if null_str == '':\n",
    "                    null_str = string\n",
    "                else:\n",
    "                    null_str = null_str + ' ' + string\n",
    "    \n",
    "        if a == '':\n",
    "            stemmed_lexic.append(null_str)\n",
    "        else:\n",
    "            stemmed_lexic.append(a)\n",
    "            \n",
    "    return stemmed_lexic"
   ]
  },
  {
   "cell_type": "markdown",
   "metadata": {},
   "source": [
    "### Identificação dos headers de cada dataset\n",
    "\n",
    "Vamos olhar o nome e tipo das colunas de cada *dataset*, para ter certeza de que estamos com o arquivo correto e de que o mesmo está seguindo a especificação que está no *Kaggle*."
   ]
  },
  {
   "cell_type": "code",
   "execution_count": 30,
   "metadata": {},
   "outputs": [
    {
     "name": "stdout",
     "output_type": "stream",
     "text": [
      "<class 'pandas.core.frame.DataFrame'>\n",
      "RangeIndex: 211076 entries, 0 to 211075\n",
      "Data columns (total 23 columns):\n",
      "AnoCalendario            211076 non-null int64\n",
      "DataArquivamento         211076 non-null object\n",
      "DataAbertura             211076 non-null object\n",
      "CodigoRegiao             211076 non-null int64\n",
      "Regiao                   211076 non-null object\n",
      "UF                       211076 non-null object\n",
      "strRazaoSocial           211076 non-null object\n",
      "strNomeFantasia          172723 non-null object\n",
      "Tipo                     211076 non-null int64\n",
      "NumeroCNPJ               200875 non-null float64\n",
      "RadicalCNPJ              200324 non-null float64\n",
      "RazaoSocialRFB           200214 non-null object\n",
      "NomeFantasiaRFB          90245 non-null object\n",
      "CNAEPrincipal            200214 non-null float64\n",
      "DescCNAEPrincipal        196250 non-null object\n",
      "Atendida                 211076 non-null object\n",
      "CodigoAssunto            211076 non-null int64\n",
      "DescricaoAssunto         211076 non-null object\n",
      "CodigoProblema           211076 non-null int64\n",
      "DescricaoProblema        211076 non-null object\n",
      "SexoConsumidor           211076 non-null object\n",
      "FaixaEtariaConsumidor    211076 non-null object\n",
      "CEPConsumidor            197170 non-null object\n",
      "dtypes: float64(3), int64(5), object(15)\n",
      "memory usage: 37.0+ MB\n"
     ]
    }
   ],
   "source": [
    "procon12.info()"
   ]
  },
  {
   "cell_type": "code",
   "execution_count": 31,
   "metadata": {},
   "outputs": [
    {
     "name": "stdout",
     "output_type": "stream",
     "text": [
      "<class 'pandas.core.frame.DataFrame'>\n",
      "RangeIndex: 268096 entries, 0 to 268095\n",
      "Data columns (total 23 columns):\n",
      "AnoCalendario            268096 non-null int64\n",
      "DataArquivamento         268096 non-null object\n",
      "DataAbertura             268096 non-null object\n",
      "CodigoRegiao             268096 non-null int64\n",
      "Regiao                   268096 non-null object\n",
      "UF                       268096 non-null object\n",
      "strRazaoSocial           268096 non-null object\n",
      "strNomeFantasia          218488 non-null object\n",
      "Tipo                     268096 non-null int64\n",
      "NumeroCNPJ               257056 non-null float64\n",
      "RadicalCNPJ              257056 non-null float64\n",
      "RazaoSocialRFB           256038 non-null object\n",
      "NomeFantasiaRFB          119663 non-null object\n",
      "CNAEPrincipal            251976 non-null float64\n",
      "DescCNAEPrincipal        251976 non-null object\n",
      "Atendida                 268096 non-null object\n",
      "CodigoAssunto            268096 non-null int64\n",
      "DescricaoAssunto         268096 non-null object\n",
      "CodigoProblema           268096 non-null int64\n",
      "DescricaoProblema        268096 non-null object\n",
      "SexoConsumidor           268096 non-null object\n",
      "FaixaEtariaConsumidor    268096 non-null object\n",
      "CEPConsumidor            249429 non-null object\n",
      "dtypes: float64(3), int64(5), object(15)\n",
      "memory usage: 47.0+ MB\n"
     ]
    }
   ],
   "source": [
    "procon13.info()"
   ]
  },
  {
   "cell_type": "code",
   "execution_count": 32,
   "metadata": {},
   "outputs": [
    {
     "name": "stdout",
     "output_type": "stream",
     "text": [
      "<class 'pandas.core.frame.DataFrame'>\n",
      "RangeIndex: 267764 entries, 0 to 267763\n",
      "Data columns (total 23 columns):\n",
      "AnoCalendario            267764 non-null int64\n",
      "DataArquivamento         267764 non-null object\n",
      "DataAbertura             267764 non-null object\n",
      "CodigoRegiao             267764 non-null int64\n",
      "Regiao                   267764 non-null object\n",
      "UF                       267764 non-null object\n",
      "strRazaoSocial           267764 non-null object\n",
      "strNomeFantasia          226691 non-null object\n",
      "Tipo                     267764 non-null int64\n",
      "NumeroCNPJ               256993 non-null float64\n",
      "RadicalCNPJ              256416 non-null float64\n",
      "RazaoSocialRFB           255312 non-null object\n",
      "NomeFantasiaRFB          124393 non-null object\n",
      "CNAEPrincipal            255312 non-null float64\n",
      "DescCNAEPrincipal        251926 non-null object\n",
      "Atendida                 267764 non-null object\n",
      "CodigoAssunto            267764 non-null int64\n",
      "DescricaoAssunto         267764 non-null object\n",
      "CodigoProblema           267764 non-null int64\n",
      "DescricaoProblema        267764 non-null object\n",
      "SexoConsumidor           267764 non-null object\n",
      "FaixaEtariaConsumidor    267764 non-null object\n",
      "CEPConsumidor            249828 non-null float64\n",
      "dtypes: float64(4), int64(5), object(14)\n",
      "memory usage: 47.0+ MB\n"
     ]
    }
   ],
   "source": [
    "procon14.info()"
   ]
  },
  {
   "cell_type": "code",
   "execution_count": 33,
   "metadata": {},
   "outputs": [
    {
     "name": "stdout",
     "output_type": "stream",
     "text": [
      "<class 'pandas.core.frame.DataFrame'>\n",
      "RangeIndex: 255650 entries, 0 to 255649\n",
      "Data columns (total 23 columns):\n",
      "AnoCalendario            255650 non-null int64\n",
      "DataArquivamento         255650 non-null object\n",
      "DataAbertura             255650 non-null object\n",
      "CodigoRegiao             255650 non-null int64\n",
      "Regiao                   255650 non-null object\n",
      "UF                       255650 non-null object\n",
      "strRazaoSocial           255645 non-null object\n",
      "strNomeFantasia          215012 non-null object\n",
      "Tipo                     255650 non-null int64\n",
      "NumeroCNPJ               243302 non-null float64\n",
      "RadicalCNPJ              243302 non-null float64\n",
      "RazaoSocialRFB           238591 non-null object\n",
      "NomeFantasiaRFB          120777 non-null object\n",
      "CNAEPrincipal            238591 non-null float64\n",
      "DescCNAEPrincipal        236325 non-null object\n",
      "Atendida                 255650 non-null object\n",
      "CodigoAssunto            255650 non-null int64\n",
      "DescricaoAssunto         255650 non-null object\n",
      "CodigoProblema           255640 non-null float64\n",
      "DescricaoProblema        255640 non-null object\n",
      "SexoConsumidor           254681 non-null object\n",
      "FaixaEtariaConsumidor    255650 non-null object\n",
      "CEPConsumidor            237439 non-null object\n",
      "dtypes: float64(4), int64(4), object(15)\n",
      "memory usage: 44.9+ MB\n"
     ]
    }
   ],
   "source": [
    "procon15.info()"
   ]
  },
  {
   "cell_type": "code",
   "execution_count": 34,
   "metadata": {},
   "outputs": [
    {
     "name": "stdout",
     "output_type": "stream",
     "text": [
      "<class 'pandas.core.frame.DataFrame'>\n",
      "RangeIndex: 203486 entries, 0 to 203485\n",
      "Data columns (total 23 columns):\n",
      "AnoCalendario            203486 non-null int64\n",
      "DataArquivamento         203486 non-null object\n",
      "DataAbertura             203486 non-null object\n",
      "CodigoRegiao             203486 non-null int64\n",
      "Regiao                   203486 non-null object\n",
      "UF                       203486 non-null object\n",
      "strRazaoSocial           203483 non-null object\n",
      "strNomeFantasia          173722 non-null object\n",
      "Tipo                     203486 non-null int64\n",
      "NumeroCNPJ               195292 non-null float64\n",
      "RadicalCNPJ              195292 non-null float64\n",
      "RazaoSocialRFB           187287 non-null object\n",
      "NomeFantasiaRFB          92561 non-null object\n",
      "CNAEPrincipal            187287 non-null float64\n",
      "DescCNAEPrincipal        185784 non-null object\n",
      "Atendida                 203486 non-null object\n",
      "CodigoAssunto            203486 non-null int64\n",
      "DescricaoAssunto         203486 non-null object\n",
      "CodigoProblema           203476 non-null float64\n",
      "DescricaoProblema        203476 non-null object\n",
      "SexoConsumidor           203484 non-null object\n",
      "FaixaEtariaConsumidor    203486 non-null object\n",
      "CEPConsumidor            189400 non-null float64\n",
      "dtypes: float64(5), int64(4), object(14)\n",
      "memory usage: 35.7+ MB\n"
     ]
    }
   ],
   "source": [
    "procon16.info()"
   ]
  },
  {
   "cell_type": "markdown",
   "metadata": {},
   "source": [
    "Tendo confirmado que os *datasets* estão com os headers padronizados, podemos juntá-los em um único *dataframe*."
   ]
  },
  {
   "cell_type": "code",
   "execution_count": 35,
   "metadata": {},
   "outputs": [],
   "source": [
    "dataset = pd.concat([procon12, procon13, procon14, procon15, procon16], ignore_index=True)"
   ]
  },
  {
   "cell_type": "markdown",
   "metadata": {},
   "source": [
    "#### Header Metadata\n",
    "\n",
    "Vamos também listar a definição de cada coluna para entendermos melhor com quais iremos trabalhar mais tarde."
   ]
  },
  {
   "cell_type": "markdown",
   "metadata": {},
   "source": [
    "<div class=\"alert alert-block alert-info\">\n",
    "\n",
    "- **AnoCalendario** : Ano de referência\n",
    "- **DataArquivamento** : Data de arquivamento da reclamação\n",
    "- **DataAbertura** : Data de abertura da reclamação\n",
    "- **CodigoRegiao** : 1 - Norte, 2 - Nordeste, 3 - Sudeste, 4 - Sul, 5 - Centro-Oeste\n",
    "- **Regiao** : Nome da região\n",
    "- **UF** : Estado\n",
    "- **strRazaoSocial** : Razão social da empresa (Base de dados do Procon)\n",
    "- **strNomeFantasia** : Nome fantasia da empresa (Base de dados do Procon)\n",
    "- **Tipo** : 1 - Jurídica, 0 - Física\n",
    "- **NumeroCNPJ** : CNPJ completo\n",
    "- **RadicalCNPJ** : Primeiros 8 dígitos do CNPJ\n",
    "- **RazaoSocialRFB** : Razão social da empresa (Base de dados do Governo)\n",
    "- **NomeFantasiaRFB** : Nome fantasia da empresa (Base de dados do Governo)\n",
    "- **CNAEPrincipal** : Código de Atividade Econômica da empresa *([Mais informações](https://cnae.ibge.gov.br/))*\n",
    "- **DescCNAEPrincipal** : Descrição da Atividade Econômica da Empresa\n",
    "- **Atendida** : Indica se a reclamação foi atendida\n",
    "- **CodigoAssunto** : Código do assunto da reclamação\n",
    "- **DescricaoAssunto** : Descrição do assunto da reclamação\n",
    "- **CodigoProblema** : Código do problema relatado\n",
    "- **DescricaoProblema** : Descrição do problema relatado\n",
    "- **SexoConsumidor** : M - Masculino, F - Feminino\n",
    "- **FaixaEtariaConsumidor** : Faixa etária do consumidor\n",
    "- **CEPConsumidor** : Código postal do consumidor"
   ]
  },
  {
   "cell_type": "markdown",
   "metadata": {},
   "source": [
    "### Pré-processamento\n",
    "\n",
    "Vamos preparar nossos dados para as análises."
   ]
  },
  {
   "cell_type": "markdown",
   "metadata": {},
   "source": [
    "#### Qual a melhor coluna para identificar as empresas?\n",
    "\n",
    "Temos algumas formas de identificarmos as empresa: seja pelo CNPJ, pela razão social ou pelo nome fantasia, tanto pela base de dados do procon, quanto pela base de dados do governo. Vamos descobrir qual é a melhor."
   ]
  },
  {
   "cell_type": "markdown",
   "metadata": {},
   "source": [
    "Queremos a coluna que agrupe as reclamações das empresas o máximo possível. Ou seja, vamos escolher aquela que menos tenha valores nulos e mais tenha as reclamações de um mesmo grupo com um valor único."
   ]
  },
  {
   "cell_type": "code",
   "execution_count": 36,
   "metadata": {},
   "outputs": [],
   "source": [
    "total_reclamacoes = dataset.shape[0]"
   ]
  },
  {
   "cell_type": "code",
   "execution_count": 37,
   "metadata": {},
   "outputs": [
    {
     "data": {
      "text/plain": [
       "NumeroCNPJ         0.882020\n",
       "strRazaoSocial     0.899140\n",
       "strNomeFantasia    0.763573\n",
       "RazaoSocialRFB     0.885154\n",
       "NomeFantasiaRFB    0.417665\n",
       "dtype: float64"
      ]
     },
     "execution_count": 37,
     "metadata": {},
     "output_type": "execute_result"
    }
   ],
   "source": [
    "melhor_coluna = dataset.filter(['NumeroCNPJ', 'strRazaoSocial', 'strNomeFantasia', 'RazaoSocialRFB', 'NomeFantasiaRFB'])\n",
    "melhor_coluna.count()\n",
    "melhor_coluna.nunique()\n",
    "\n",
    "1 - ((melhor_coluna.nunique() + (total_reclamacoes - melhor_coluna.count()))/total_reclamacoes)"
   ]
  },
  {
   "cell_type": "code",
   "execution_count": 38,
   "metadata": {},
   "outputs": [],
   "source": [
    "melhor_coluna = pd.DataFrame({\n",
    "    'nulos' : {\n",
    "        'CNPJ' : total_reclamacoes - dataset['NumeroCNPJ'].count(),\n",
    "        'RazaoSocialRFB' : total_reclamacoes - dataset['RazaoSocialRFB'].count(), \n",
    "        'NomeFantasiaRFB' : total_reclamacoes - dataset['NomeFantasiaRFB'].count(), \n",
    "        'strRazaoSocial' : total_reclamacoes - dataset['strRazaoSocial'].count(), \n",
    "        'strNomeFantasia' : total_reclamacoes - dataset['strNomeFantasia'].count()\n",
    "    },\n",
    "\n",
    "    'unicos' : {\n",
    "        'CNPJ' : len(dataset['NumeroCNPJ'].unique()),\n",
    "        'RazaoSocialRFB' : len(dataset['RazaoSocialRFB'].unique()), \n",
    "        'NomeFantasiaRFB' : len(dataset['NomeFantasiaRFB'].unique()), \n",
    "        'strRazaoSocial' : len(dataset['strRazaoSocial'].unique()), \n",
    "        'strNomeFantasia' : len(dataset['strNomeFantasia'].unique())\n",
    "    }\n",
    "})"
   ]
  },
  {
   "cell_type": "code",
   "execution_count": 39,
   "metadata": {},
   "outputs": [
    {
     "data": {
      "text/plain": [
       "CNPJ               0.882019\n",
       "NomeFantasiaRFB    0.417664\n",
       "RazaoSocialRFB     0.885153\n",
       "strNomeFantasia    0.763572\n",
       "strRazaoSocial     0.899140\n",
       "dtype: float64"
      ]
     },
     "execution_count": 39,
     "metadata": {},
     "output_type": "execute_result"
    }
   ],
   "source": [
    "1 - ((melhor_coluna['unicos'] + melhor_coluna['nulos'])/total_reclamacoes)"
   ]
  },
  {
   "cell_type": "markdown",
   "metadata": {},
   "source": [
    "De acordo com os resultados, utilizaremos a coluna ```strRazaoSocial``` para identificar as empresas daqui para frente. Podemos, portanto, tornar nosso *dataset* mais leve ao retirar a informação duplicada da nossa base de dados."
   ]
  },
  {
   "cell_type": "code",
   "execution_count": 40,
   "metadata": {},
   "outputs": [],
   "source": [
    "lean_dataset = dataset.drop(['NumeroCNPJ', 'RadicalCNPJ', 'RazaoSocialRFB', 'NomeFantasiaRFB', 'strNomeFantasia'], axis=1)"
   ]
  },
  {
   "cell_type": "markdown",
   "metadata": {},
   "source": [
    "#### Tratando o nome das empresas\n",
    "\n",
    "Agora que decidimos qual coluna utilizar, vamos tratar aspectos dos nomes que podem nos atrapalhar na hora de identificar a qual empresa percente uma reclamação, como variações de acentuação, pontuação e *stop-words* comuns em nomes de empresas *(i.e. LTDA., S/A)*."
   ]
  },
  {
   "cell_type": "code",
   "execution_count": 41,
   "metadata": {
    "scrolled": true
   },
   "outputs": [],
   "source": [
    "regras = [\n",
    "    ('\\.+', ''), \n",
    "    ('/', ''), \n",
    "    ('\\s{1}-', ''), \n",
    "    ('`+', ''), \n",
    "    ('´+', ''), \n",
    "    ('\\'+', ''), \n",
    "    ('\\\"+', ''), \n",
    "    ('\\(+', ''), \n",
    "    ('\\)+', ''), \n",
    "    ('\\[+', ''), \n",
    "    ('\\]+', ''), \n",
    "    ('\\{+', ''), \n",
    "    ('\\}+', ''), \n",
    "    ('\\s{1}SA$', ''), \n",
    "    ('\\s{1}SA\\s{1}', ''), \n",
    "    ('\\s{1}LTD$', ''), \n",
    "    ('LTD\\s{1}', ''), \n",
    "    ('\\s{1}LTDA$', ''), \n",
    "    ('\\s{1}LTDA\\s{1}', ''), \n",
    "    ('\\s{1}INC$', ''), \n",
    "    ('\\s{1}INC\\s{1}', ''), \n",
    "    ('\\s{1}ME$', ''), \n",
    "    ('\\s{1}ME\\s{1}', ''),\n",
    "    ('\\s{1}E\\s{1}'. ' ')\n",
    "    ('Ã|Á', 'A'), \n",
    "    ('É|Ê', 'E'),  \n",
    "    ('Í', 'I'), \n",
    "    ('Õ|Ô|Ó', 'O'), \n",
    "    ('Ú', 'U'), \n",
    "    ('Ç', 'C')\n",
    "]\n",
    "\n",
    "for pattern, replace in regras:\n",
    "    lean_dataset['strRazaoSocial'] = lean_dataset['strRazaoSocial'].str.replace(pattern, replace)"
   ]
  },
  {
   "cell_type": "code",
   "execution_count": 42,
   "metadata": {},
   "outputs": [
    {
     "data": {
      "text/plain": [
       "0.9087384501091146"
      ]
     },
     "execution_count": 42,
     "metadata": {},
     "output_type": "execute_result"
    }
   ],
   "source": [
    "unicos = lean_dataset['strRazaoSocial'].unique()\n",
    "1 - (len(unicos) + melhor_coluna['nulos']['strRazaoSocial'])/total_reclamacoes"
   ]
  },
  {
   "cell_type": "markdown",
   "metadata": {},
   "source": [
    "Conseguimos melhorar um pouco o agrupamento das nossas empresas, mas ainda podemos melhorar isso se fizermos uso de um ```stemmer```. Faremos uso da coluna ```strNomeFantasia``` para servir de tabela de comparação para remoção de eventuais palavras não desejadas."
   ]
  },
  {
   "cell_type": "code",
   "execution_count": 43,
   "metadata": {},
   "outputs": [],
   "source": [
    "for pattern, replace in regras:\n",
    "    nome_fantasia = dataset['strNomeFantasia'].str.replace(pattern, replace)"
   ]
  },
  {
   "cell_type": "code",
   "execution_count": 44,
   "metadata": {},
   "outputs": [],
   "source": [
    "stemmer = set()\n",
    "lexic = lean_dataset['strRazaoSocial'].dropna().str.split()\n",
    "\n",
    "for empresa in nome_fantasia.dropna().str.split():\n",
    "    for string in empresa:\n",
    "        stemmer.add(string)\n",
    "        \n",
    "lean_dataset['strRazaoSocial'] = pd.Series(table_stemming(lexic, stemmer))"
   ]
  },
  {
   "cell_type": "code",
   "execution_count": 156,
   "metadata": {},
   "outputs": [
    {
     "data": {
      "text/plain": [
       "0.9178382385131236"
      ]
     },
     "execution_count": 156,
     "metadata": {},
     "output_type": "execute_result"
    }
   ],
   "source": [
    "unicos = lean_dataset['strRazaoSocial'].unique()\n",
    "1 - (len(unicos) + melhor_coluna['nulos']['strRazaoSocial'])/total_reclamacoes"
   ]
  },
  {
   "cell_type": "markdown",
   "metadata": {},
   "source": [
    "Pronto, agora temos um desempenho ainda melhor na coluna ```strRazaoSocial```. Poderíamos aplicar mais técnicas, porém correríamos o risco de perder a essência das informações contidas em cada nome, portanto iremos parar por aqui."
   ]
  },
  {
   "cell_type": "markdown",
   "metadata": {},
   "source": [
    "#### Transformando as datas\n",
    "\n",
    "Durante a identificação dos headers, observamos que as colunas ```DataAbertura``` e ```DataArquivamento``` estavam sendo lidas como ```string```. No entanto, para trabalhar com elas é ideal que elas sejam objetos ```datetime```. Faremos, portanto, essa mudança agora."
   ]
  },
  {
   "cell_type": "code",
   "execution_count": 46,
   "metadata": {
    "scrolled": false
   },
   "outputs": [],
   "source": [
    "lean_dataset['DataAbertura'] = pd.to_datetime(lean_dataset['DataAbertura'], format=\"%Y-%m-%d %H:%M:%S.%f\")\n",
    "lean_dataset['DataArquivamento'] = pd.to_datetime(lean_dataset['DataArquivamento'], format=\"%Y-%m-%d %H:%M:%S.%f\")"
   ]
  },
  {
   "cell_type": "markdown",
   "metadata": {},
   "source": [
    "## Exploração dos datasets"
   ]
  },
  {
   "cell_type": "markdown",
   "metadata": {},
   "source": [
    "Finalmente, estamos prontos para começar a explorar os nossos dados. **Relembrando: estamos interessados em descobrir as empresas mais odiadas.**"
   ]
  },
  {
   "cell_type": "code",
   "execution_count": 105,
   "metadata": {
    "scrolled": false
   },
   "outputs": [],
   "source": [
    "setores = lean_dataset.groupby(['DescCNAEPrincipal', 'AnoCalendario']).size().to_frame('freq').reset_index()"
   ]
  },
  {
   "cell_type": "code",
   "execution_count": 93,
   "metadata": {
    "scrolled": false
   },
   "outputs": [],
   "source": [
    "setores = lean_dataset.groupby(['DescCNAEPrincipal', 'AnoCalendario']).size()"
   ]
  },
  {
   "cell_type": "code",
   "execution_count": 106,
   "metadata": {},
   "outputs": [],
   "source": [
    "setores = setores.set_index(['DescCNAEPrincipal', 'AnoCalendario']).freq"
   ]
  },
  {
   "cell_type": "code",
   "execution_count": 108,
   "metadata": {},
   "outputs": [],
   "source": [
    "setores = setores.unstack(fill_value=0)"
   ]
  },
  {
   "cell_type": "code",
   "execution_count": 154,
   "metadata": {
    "scrolled": false
   },
   "outputs": [
    {
     "data": {
      "text/plain": [
       "<matplotlib.axes._subplots.AxesSubplot at 0x2efcaf98>"
      ]
     },
     "execution_count": 154,
     "metadata": {},
     "output_type": "execute_result"
    },
    {
     "data": {
      "image/png": "[encoded data removed]",
      "text/plain": [
       "<matplotlib.figure.Figure at 0x2efa11d0>"
      ]
     },
     "metadata": {},
     "output_type": "display_data"
    }
   ],
   "source": [
    "setores.stack().unstack(level=0).sum().sort_values(ascending=False)[:10].plot(\n",
    "    kind='barh',\n",
    "    figsize=(10,6)\n",
    ")"
   ]
  },
  {
   "cell_type": "code",
   "execution_count": 150,
   "metadata": {},
   "outputs": [
    {
     "ename": "TypeError",
     "evalue": "keys() takes 1 positional argument but 2 were given",
     "output_type": "error",
     "traceback": [
      "\u001b[1;31m---------------------------------------------------------------------------\u001b[0m",
      "\u001b[1;31mTypeError\u001b[0m                                 Traceback (most recent call last)",
      "\u001b[1;32m<ipython-input-150-5d8decb9dfa5>\u001b[0m in \u001b[0;36m<module>\u001b[1;34m()\u001b[0m\n\u001b[1;32m----> 1\u001b[1;33m \u001b[0msns\u001b[0m\u001b[1;33m.\u001b[0m\u001b[0mfactorplot\u001b[0m\u001b[1;33m(\u001b[0m\u001b[0mdata\u001b[0m\u001b[1;33m=\u001b[0m\u001b[0msetores\u001b[0m\u001b[1;33m,\u001b[0m \u001b[0my\u001b[0m\u001b[1;33m=\u001b[0m\u001b[0msetores\u001b[0m\u001b[1;33m.\u001b[0m\u001b[0mvalues\u001b[0m\u001b[1;33m,\u001b[0m \u001b[0mx\u001b[0m\u001b[1;33m=\u001b[0m\u001b[0msetores\u001b[0m\u001b[1;33m.\u001b[0m\u001b[0mkeys\u001b[0m\u001b[1;33m,\u001b[0m \u001b[0mcol\u001b[0m\u001b[1;33m=\u001b[0m\u001b[0msetores\u001b[0m\u001b[1;33m.\u001b[0m\u001b[0mcolumns\u001b[0m\u001b[1;33m)\u001b[0m\u001b[1;33m\u001b[0m\u001b[0m\n\u001b[0m",
      "\u001b[1;32m~\\Anaconda3\\lib\\site-packages\\seaborn\\categorical.py\u001b[0m in \u001b[0;36mfactorplot\u001b[1;34m(x, y, hue, data, row, col, col_wrap, estimator, ci, n_boot, units, order, hue_order, row_order, col_order, kind, size, aspect, orient, color, palette, legend, legend_out, sharex, sharey, margin_titles, facet_kws, **kwargs)\u001b[0m\n\u001b[0;32m   3489\u001b[0m     \u001b[1;31m# facets to ensure representation of all data in the final plot\u001b[0m\u001b[1;33m\u001b[0m\u001b[1;33m\u001b[0m\u001b[0m\n\u001b[0;32m   3490\u001b[0m     \u001b[0mp\u001b[0m \u001b[1;33m=\u001b[0m \u001b[0m_CategoricalPlotter\u001b[0m\u001b[1;33m(\u001b[0m\u001b[1;33m)\u001b[0m\u001b[1;33m\u001b[0m\u001b[0m\n\u001b[1;32m-> 3491\u001b[1;33m     \u001b[0mp\u001b[0m\u001b[1;33m.\u001b[0m\u001b[0mestablish_variables\u001b[0m\u001b[1;33m(\u001b[0m\u001b[0mx_\u001b[0m\u001b[1;33m,\u001b[0m \u001b[0my_\u001b[0m\u001b[1;33m,\u001b[0m \u001b[0mhue\u001b[0m\u001b[1;33m,\u001b[0m \u001b[0mdata\u001b[0m\u001b[1;33m,\u001b[0m \u001b[0morient\u001b[0m\u001b[1;33m,\u001b[0m \u001b[0morder\u001b[0m\u001b[1;33m,\u001b[0m \u001b[0mhue_order\u001b[0m\u001b[1;33m)\u001b[0m\u001b[1;33m\u001b[0m\u001b[0m\n\u001b[0m\u001b[0;32m   3492\u001b[0m     \u001b[0morder\u001b[0m \u001b[1;33m=\u001b[0m \u001b[0mp\u001b[0m\u001b[1;33m.\u001b[0m\u001b[0mgroup_names\u001b[0m\u001b[1;33m\u001b[0m\u001b[0m\n\u001b[0;32m   3493\u001b[0m     \u001b[0mhue_order\u001b[0m \u001b[1;33m=\u001b[0m \u001b[0mp\u001b[0m\u001b[1;33m.\u001b[0m\u001b[0mhue_names\u001b[0m\u001b[1;33m\u001b[0m\u001b[0m\n",
      "\u001b[1;32m~\\Anaconda3\\lib\\site-packages\\seaborn\\categorical.py\u001b[0m in \u001b[0;36mestablish_variables\u001b[1;34m(self, x, y, hue, data, orient, order, hue_order, units)\u001b[0m\n\u001b[0;32m    140\u001b[0m             \u001b[1;31m# See if we need to get variables from `data`\u001b[0m\u001b[1;33m\u001b[0m\u001b[1;33m\u001b[0m\u001b[0m\n\u001b[0;32m    141\u001b[0m             \u001b[1;32mif\u001b[0m \u001b[0mdata\u001b[0m \u001b[1;32mis\u001b[0m \u001b[1;32mnot\u001b[0m \u001b[1;32mNone\u001b[0m\u001b[1;33m:\u001b[0m\u001b[1;33m\u001b[0m\u001b[0m\n\u001b[1;32m--> 142\u001b[1;33m                 \u001b[0mx\u001b[0m \u001b[1;33m=\u001b[0m \u001b[0mdata\u001b[0m\u001b[1;33m.\u001b[0m\u001b[0mget\u001b[0m\u001b[1;33m(\u001b[0m\u001b[0mx\u001b[0m\u001b[1;33m,\u001b[0m \u001b[0mx\u001b[0m\u001b[1;33m)\u001b[0m\u001b[1;33m\u001b[0m\u001b[0m\n\u001b[0m\u001b[0;32m    143\u001b[0m                 \u001b[0my\u001b[0m \u001b[1;33m=\u001b[0m \u001b[0mdata\u001b[0m\u001b[1;33m.\u001b[0m\u001b[0mget\u001b[0m\u001b[1;33m(\u001b[0m\u001b[0my\u001b[0m\u001b[1;33m,\u001b[0m \u001b[0my\u001b[0m\u001b[1;33m)\u001b[0m\u001b[1;33m\u001b[0m\u001b[0m\n\u001b[0;32m    144\u001b[0m                 \u001b[0mhue\u001b[0m \u001b[1;33m=\u001b[0m \u001b[0mdata\u001b[0m\u001b[1;33m.\u001b[0m\u001b[0mget\u001b[0m\u001b[1;33m(\u001b[0m\u001b[0mhue\u001b[0m\u001b[1;33m,\u001b[0m \u001b[0mhue\u001b[0m\u001b[1;33m)\u001b[0m\u001b[1;33m\u001b[0m\u001b[0m\n",
      "\u001b[1;32m~\\Anaconda3\\lib\\site-packages\\pandas\\core\\generic.py\u001b[0m in \u001b[0;36mget\u001b[1;34m(self, key, default)\u001b[0m\n\u001b[0;32m   1828\u001b[0m         \"\"\"\n\u001b[0;32m   1829\u001b[0m         \u001b[1;32mtry\u001b[0m\u001b[1;33m:\u001b[0m\u001b[1;33m\u001b[0m\u001b[0m\n\u001b[1;32m-> 1830\u001b[1;33m             \u001b[1;32mreturn\u001b[0m \u001b[0mself\u001b[0m\u001b[1;33m[\u001b[0m\u001b[0mkey\u001b[0m\u001b[1;33m]\u001b[0m\u001b[1;33m\u001b[0m\u001b[0m\n\u001b[0m\u001b[0;32m   1831\u001b[0m         \u001b[1;32mexcept\u001b[0m \u001b[1;33m(\u001b[0m\u001b[0mKeyError\u001b[0m\u001b[1;33m,\u001b[0m \u001b[0mValueError\u001b[0m\u001b[1;33m,\u001b[0m \u001b[0mIndexError\u001b[0m\u001b[1;33m)\u001b[0m\u001b[1;33m:\u001b[0m\u001b[1;33m\u001b[0m\u001b[0m\n\u001b[0;32m   1832\u001b[0m             \u001b[1;32mreturn\u001b[0m \u001b[0mdefault\u001b[0m\u001b[1;33m\u001b[0m\u001b[0m\n",
      "\u001b[1;32m~\\Anaconda3\\lib\\site-packages\\pandas\\core\\frame.py\u001b[0m in \u001b[0;36m__getitem__\u001b[1;34m(self, key)\u001b[0m\n\u001b[0;32m   2114\u001b[0m \u001b[1;33m\u001b[0m\u001b[0m\n\u001b[0;32m   2115\u001b[0m     \u001b[1;32mdef\u001b[0m \u001b[0m__getitem__\u001b[0m\u001b[1;33m(\u001b[0m\u001b[0mself\u001b[0m\u001b[1;33m,\u001b[0m \u001b[0mkey\u001b[0m\u001b[1;33m)\u001b[0m\u001b[1;33m:\u001b[0m\u001b[1;33m\u001b[0m\u001b[0m\n\u001b[1;32m-> 2116\u001b[1;33m         \u001b[0mkey\u001b[0m \u001b[1;33m=\u001b[0m \u001b[0mcom\u001b[0m\u001b[1;33m.\u001b[0m\u001b[0m_apply_if_callable\u001b[0m\u001b[1;33m(\u001b[0m\u001b[0mkey\u001b[0m\u001b[1;33m,\u001b[0m \u001b[0mself\u001b[0m\u001b[1;33m)\u001b[0m\u001b[1;33m\u001b[0m\u001b[0m\n\u001b[0m\u001b[0;32m   2117\u001b[0m \u001b[1;33m\u001b[0m\u001b[0m\n\u001b[0;32m   2118\u001b[0m         \u001b[1;31m# shortcut if we are an actual column\u001b[0m\u001b[1;33m\u001b[0m\u001b[1;33m\u001b[0m\u001b[0m\n",
      "\u001b[1;32m~\\Anaconda3\\lib\\site-packages\\pandas\\core\\common.py\u001b[0m in \u001b[0;36m_apply_if_callable\u001b[1;34m(maybe_callable, obj, **kwargs)\u001b[0m\n\u001b[0;32m    475\u001b[0m \u001b[1;33m\u001b[0m\u001b[0m\n\u001b[0;32m    476\u001b[0m     \u001b[1;32mif\u001b[0m \u001b[0mcallable\u001b[0m\u001b[1;33m(\u001b[0m\u001b[0mmaybe_callable\u001b[0m\u001b[1;33m)\u001b[0m\u001b[1;33m:\u001b[0m\u001b[1;33m\u001b[0m\u001b[0m\n\u001b[1;32m--> 477\u001b[1;33m         \u001b[1;32mreturn\u001b[0m \u001b[0mmaybe_callable\u001b[0m\u001b[1;33m(\u001b[0m\u001b[0mobj\u001b[0m\u001b[1;33m,\u001b[0m \u001b[1;33m**\u001b[0m\u001b[0mkwargs\u001b[0m\u001b[1;33m)\u001b[0m\u001b[1;33m\u001b[0m\u001b[0m\n\u001b[0m\u001b[0;32m    478\u001b[0m \u001b[1;33m\u001b[0m\u001b[0m\n\u001b[0;32m    479\u001b[0m     \u001b[1;32mreturn\u001b[0m \u001b[0mmaybe_callable\u001b[0m\u001b[1;33m\u001b[0m\u001b[0m\n",
      "\u001b[1;31mTypeError\u001b[0m: keys() takes 1 positional argument but 2 were given"
     ]
    }
   ],
   "source": [
    "sns.factorplot(data=setores, y=setores.values, x=setores.keys, col=setores.columns)"
   ]
  },
  {
   "cell_type": "code",
   "execution_count": 172,
   "metadata": {
    "scrolled": false
   },
   "outputs": [
    {
     "data": {
      "text/plain": [
       "<matplotlib.axes._subplots.AxesSubplot at 0x6e20f550>"
      ]
     },
     "execution_count": 172,
     "metadata": {},
     "output_type": "execute_result"
    },
    {
     "data": {
      "image/png": "[encoded data removed]",
      "text/plain": [
       "<matplotlib.figure.Figure at 0x6e1b9048>"
      ]
     },
     "metadata": {},
     "output_type": "display_data"
    }
   ],
   "source": [
    "setores2012 = setores[setores['AnoCalendario'] == 2015].nlargest(10,'size')\n",
    "sns.barplot(setores2012['size'], setores2012['DescCNAEPrincipal'], orient='h')"
   ]
  }
 ],
 "metadata": {
  "kernelspec": {
   "display_name": "Python 3",
   "language": "python",
   "name": "python3"
  },
  "language_info": {
   "codemirror_mode": {
    "name": "ipython",
    "version": 3
   },
   "file_extension": ".py",
   "mimetype": "text/x-python",
   "name": "python",
   "nbconvert_exporter": "python",
   "pygments_lexer": "ipython3",
   "version": "3.6.4"
  },
  "latex_envs": {
   "LaTeX_envs_menu_present": true,
   "autoclose": true,
   "autocomplete": true,
   "bibliofile": "biblio.bib",
   "cite_by": "apalike",
   "current_citInitial": 1,
   "eqLabelWithNumbers": true,
   "eqNumInitial": 1,
   "hotkeys": {
    "equation": "Ctrl-E",
    "itemize": "Ctrl-I"
   },
   "labels_anchors": false,
   "latex_user_defs": false,
   "report_style_numbering": false,
   "user_envs_cfg": false
  },
  "varInspector": {
   "cols": {
    "lenName": 16,
    "lenType": 16,
    "lenVar": 40
   },
   "kernels_config": {
    "python": {
     "delete_cmd_postfix": "",
     "delete_cmd_prefix": "del ",
     "library": "var_list.py",
     "varRefreshCmd": "print(var_dic_list())"
    },
    "r": {
     "delete_cmd_postfix": ") ",
     "delete_cmd_prefix": "rm(",
     "library": "var_list.r",
     "varRefreshCmd": "cat(var_dic_list()) "
    }
   },
   "types_to_exclude": [
    "module",
    "function",
    "builtin_function_or_method",
    "instance",
    "_Feature"
   ],
   "window_display": false
  }
 },
 "nbformat": 4,
 "nbformat_minor": 2
}
